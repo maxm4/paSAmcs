{
 "cells": [
  {
   "cell_type": "markdown",
   "id": "677c46f8",
   "metadata": {},
   "source": [
    "# Metabolic models curation and applying medium"
   ]
  },
  {
   "cell_type": "markdown",
   "id": "1d9919fa",
   "metadata": {},
   "source": [
    "Models used: http://bigg.ucsd.edu/models/iYS854 and iPae1146: https://bme.virginia.edu/csbl/Downloads1-pseudomonas.html\n",
    "\n",
    "GPR associations were prealably modified for better practical use."
   ]
  },
  {
   "cell_type": "code",
   "execution_count": 4,
   "id": "eff67ef6",
   "metadata": {},
   "outputs": [],
   "source": [
    "import cobra"
   ]
  },
  {
   "cell_type": "markdown",
   "id": "b44f8ae5",
   "metadata": {},
   "source": [
    "We are defining the CSP Medium from Yung et al, 2019 as our co-culture medium for the two bacteria:\n"
   ]
  },
  {
   "cell_type": "markdown",
   "id": "87369747",
   "metadata": {},
   "source": [
    "- 4 g/L glucose → *M_glc__D_e*\n",
    "\n",
    "- 0.7 g/L sodium citrate → *M_na1_e* + *M_cit_e*\n",
    "\n",
    "- 0.1 g/L EDTA tetrasodium salt → *M_na1_e*\n",
    "\n",
    "- 1.7 g/L yeast nitrogen base → *M_ca2_e* + *M_zn2_e* + *M_cu2_e* + *M_nac_e* + *M_4abz_e* + *M_btn_e* + *M_mg2_e*\n",
    " + *M_so4_e* + *M_thm_e* + *M_mobd_e* + *M_mn2_e* + *M_ribflv_e* + *M_fol_e* + *M_inost_e* + *M_pydx_e* + *M_pnto__R_e*\n",
    "\n",
    "- minimum essential media non-essential amino acid (100× solution)\n",
    "\n",
    "- minimum essential media amino acid (50× solution) \n",
    "\n",
    "- 4.7 g/L KH2PO4 → *M_k_e* + *M_h_e* + *M_pi_e*\n",
    "\n",
    "- 8.2 g/L Na2HPO4 → *M_na1_e* + *M_h_e* + *M_pi_e*\n",
    "\n",
    "- 0.02 g/L adenine → *M_ade_e*\n",
    "\n",
    "- 0.02 g/L uracil → *M_ura_e*\n",
    "\n",
    "- 0.02 g/L cytosine → *M_csn_e*\n",
    "\n",
    "- 0.02 g/L guanine → *M_gua_e*\n",
    "\n",
    "- 0.15 g/L glutamine → *M_gln__D_e*\n",
    "\n",
    "- 2.0 × 10−6 g/L vitamin B12 → *M_cbl2_e*\n",
    "\n",
    "- 2.8 × 10−3 g/L FeSO4·7H2O → *M_fe2_e* + *M_fe3_e* + *M_so4_e*\n",
    "\n",
    "- and 1.2 × 10−5 g/L CoCl2·6H2O → *M_cobalt2_e* + *M_cl_e*\n",
    "\n",
    "- *example of supplementation:* 2 g/L lactate (LCSP)."
   ]
  },
  {
   "cell_type": "markdown",
   "id": "c47ea85f",
   "metadata": {},
   "source": [
    "This CSP medium can be supplemented by Glucose (G), Lactate (L), Acetate (A) and Succinate (S)."
   ]
  },
  {
   "cell_type": "code",
   "execution_count": 5,
   "id": "bd690929",
   "metadata": {},
   "outputs": [],
   "source": [
    "medium = [\n",
    "    ['M_glc__D_e', 10.0],\n",
    "    ['M_lac__D_e', 10.0],\n",
    "    ['M_h_e', 10.0],\n",
    "    ['M_nh4_e', 10.0],\n",
    "    ['M_h2o_e', 10.0],\n",
    "    ['M_co2_e', 10.0],\n",
    "    ['M_pi_e', 10.0],\n",
    "    ['M_o2_e', 20.0],\n",
    "    ['M_k_e', 10.0],\n",
    "    ['M_na1_e', 10.0],\n",
    "    # Nucletotides\n",
    "    ['M_ade_e', 1.5],\n",
    "    ['M_gua_e', 1.5],\n",
    "    ['M_csn_e', 1.5],\n",
    "    ['M_ura_e', 1.5],\n",
    "    # Amino Acids\n",
    "    ['M_gln__L_e', 5.0],\n",
    "    ['M_gly_e', 2.0],\n",
    "    ['M_ala__L_e', 1.0],\n",
    "    ['M_arg__L_e', 1.0],\n",
    "    ['M_asp__L_e', 2.0],\n",
    "    ['M_asn__L_e', 2.0],\n",
    "    ['M_cys__L_e', 1.0],\n",
    "    ['M_glu__L_e', 2.0],\n",
    "    ['M_his__L_e', 1.0],\n",
    "    ['M_ile__L_e', 1.0],\n",
    "    ['M_leu__L_e', 1.0],\n",
    "    ['M_lys__L_e', 1.0],\n",
    "    ['M_met__L_e', 1.0],\n",
    "    ['M_phe__L_e', 1.0],\n",
    "    ['M_pro__L_e', 2.0],\n",
    "    ['M_ser__L_e', 2.0],\n",
    "    ['M_thr__L_e', 1.0],\n",
    "    ['M_trp__L_e', 1.0],\n",
    "    ['M_tyr__L_e', 1.0],\n",
    "    ['M_val__L_e', 1.0],\n",
    "    # Ions\n",
    "    ['M_cobalt2_e', 1.0], \n",
    "    ['M_cl_e', 1.0], \n",
    "    ['M_ca2_e', 1.0],\n",
    "    ['M_cu2_e', 1.0],\n",
    "    ['M_mn2_e', 1.0],\n",
    "    ['M_mg2_e', 1.0],\n",
    "    ['M_zn2_e', 1.0], \n",
    "    ['M_fe2_e', 1.0], \n",
    "    ['M_fe3_e', 1.0],\n",
    "    ['M_so4_e', 1.0],\n",
    "    ['M_mobd_e', 1.0],\n",
    "    # Vitamins\n",
    "    ['M_cit_e', 1.0],\n",
    "    ['M_4abz_e', 1.0],\n",
    "    ['M_ribflv_e', 1.0],\n",
    "    ['M_fol_e', 1.0],\n",
    "    ['M_inost_e', 1.0],\n",
    "    ['M_pydx_e', 1.0],\n",
    "    ['M_pydam_e', 1.0],\n",
    "    ['M_cbl2_e', 1.0],\n",
    "    ['M_btn_e', 1.0],\n",
    "    ['M_thm_e', 1.0],\n",
    "    ['M_nac_e', 1.0],  \n",
    "    ['M_pnto__R_e', 1.0],\n",
    "]"
   ]
  },
  {
   "cell_type": "code",
   "execution_count": 6,
   "id": "3fa75455",
   "metadata": {},
   "outputs": [
    {
     "data": {
      "text/html": [
       "<div>\n",
       "<style scoped>\n",
       "    .dataframe tbody tr th:only-of-type {\n",
       "        vertical-align: middle;\n",
       "    }\n",
       "\n",
       "    .dataframe tbody tr th {\n",
       "        vertical-align: top;\n",
       "    }\n",
       "\n",
       "    .dataframe thead th {\n",
       "        text-align: right;\n",
       "    }\n",
       "</style>\n",
       "<table border=\"1\" class=\"dataframe\">\n",
       "  <thead>\n",
       "    <tr style=\"text-align: right;\">\n",
       "      <th></th>\n",
       "      <th>Metabolite</th>\n",
       "      <th>Input Flux Lower Bound</th>\n",
       "    </tr>\n",
       "  </thead>\n",
       "  <tbody>\n",
       "    <tr>\n",
       "      <th>0</th>\n",
       "      <td>M_glc__D_e</td>\n",
       "      <td>-10.0</td>\n",
       "    </tr>\n",
       "    <tr>\n",
       "      <th>1</th>\n",
       "      <td>M_lac__D_e</td>\n",
       "      <td>-10.0</td>\n",
       "    </tr>\n",
       "    <tr>\n",
       "      <th>2</th>\n",
       "      <td>M_h_e</td>\n",
       "      <td>-10.0</td>\n",
       "    </tr>\n",
       "    <tr>\n",
       "      <th>3</th>\n",
       "      <td>M_nh4_e</td>\n",
       "      <td>-10.0</td>\n",
       "    </tr>\n",
       "    <tr>\n",
       "      <th>4</th>\n",
       "      <td>M_h2o_e</td>\n",
       "      <td>-10.0</td>\n",
       "    </tr>\n",
       "    <tr>\n",
       "      <th>5</th>\n",
       "      <td>M_co2_e</td>\n",
       "      <td>-10.0</td>\n",
       "    </tr>\n",
       "    <tr>\n",
       "      <th>6</th>\n",
       "      <td>M_pi_e</td>\n",
       "      <td>-10.0</td>\n",
       "    </tr>\n",
       "    <tr>\n",
       "      <th>7</th>\n",
       "      <td>M_o2_e</td>\n",
       "      <td>-20.0</td>\n",
       "    </tr>\n",
       "    <tr>\n",
       "      <th>8</th>\n",
       "      <td>M_k_e</td>\n",
       "      <td>-10.0</td>\n",
       "    </tr>\n",
       "    <tr>\n",
       "      <th>9</th>\n",
       "      <td>M_na1_e</td>\n",
       "      <td>-10.0</td>\n",
       "    </tr>\n",
       "    <tr>\n",
       "      <th>10</th>\n",
       "      <td>M_ade_e</td>\n",
       "      <td>-1.5</td>\n",
       "    </tr>\n",
       "    <tr>\n",
       "      <th>11</th>\n",
       "      <td>M_gua_e</td>\n",
       "      <td>-1.5</td>\n",
       "    </tr>\n",
       "    <tr>\n",
       "      <th>12</th>\n",
       "      <td>M_csn_e</td>\n",
       "      <td>-1.5</td>\n",
       "    </tr>\n",
       "    <tr>\n",
       "      <th>13</th>\n",
       "      <td>M_ura_e</td>\n",
       "      <td>-1.5</td>\n",
       "    </tr>\n",
       "    <tr>\n",
       "      <th>14</th>\n",
       "      <td>M_gln__L_e</td>\n",
       "      <td>-5.0</td>\n",
       "    </tr>\n",
       "    <tr>\n",
       "      <th>15</th>\n",
       "      <td>M_gly_e</td>\n",
       "      <td>-2.0</td>\n",
       "    </tr>\n",
       "    <tr>\n",
       "      <th>16</th>\n",
       "      <td>M_ala__L_e</td>\n",
       "      <td>-1.0</td>\n",
       "    </tr>\n",
       "    <tr>\n",
       "      <th>17</th>\n",
       "      <td>M_arg__L_e</td>\n",
       "      <td>-1.0</td>\n",
       "    </tr>\n",
       "    <tr>\n",
       "      <th>18</th>\n",
       "      <td>M_asp__L_e</td>\n",
       "      <td>-2.0</td>\n",
       "    </tr>\n",
       "    <tr>\n",
       "      <th>19</th>\n",
       "      <td>M_asn__L_e</td>\n",
       "      <td>-2.0</td>\n",
       "    </tr>\n",
       "    <tr>\n",
       "      <th>20</th>\n",
       "      <td>M_cys__L_e</td>\n",
       "      <td>-1.0</td>\n",
       "    </tr>\n",
       "    <tr>\n",
       "      <th>21</th>\n",
       "      <td>M_glu__L_e</td>\n",
       "      <td>-2.0</td>\n",
       "    </tr>\n",
       "    <tr>\n",
       "      <th>22</th>\n",
       "      <td>M_his__L_e</td>\n",
       "      <td>-1.0</td>\n",
       "    </tr>\n",
       "    <tr>\n",
       "      <th>23</th>\n",
       "      <td>M_ile__L_e</td>\n",
       "      <td>-1.0</td>\n",
       "    </tr>\n",
       "    <tr>\n",
       "      <th>24</th>\n",
       "      <td>M_leu__L_e</td>\n",
       "      <td>-1.0</td>\n",
       "    </tr>\n",
       "    <tr>\n",
       "      <th>25</th>\n",
       "      <td>M_lys__L_e</td>\n",
       "      <td>-1.0</td>\n",
       "    </tr>\n",
       "    <tr>\n",
       "      <th>26</th>\n",
       "      <td>M_met__L_e</td>\n",
       "      <td>-1.0</td>\n",
       "    </tr>\n",
       "    <tr>\n",
       "      <th>27</th>\n",
       "      <td>M_phe__L_e</td>\n",
       "      <td>-1.0</td>\n",
       "    </tr>\n",
       "    <tr>\n",
       "      <th>28</th>\n",
       "      <td>M_pro__L_e</td>\n",
       "      <td>-2.0</td>\n",
       "    </tr>\n",
       "    <tr>\n",
       "      <th>29</th>\n",
       "      <td>M_ser__L_e</td>\n",
       "      <td>-2.0</td>\n",
       "    </tr>\n",
       "    <tr>\n",
       "      <th>30</th>\n",
       "      <td>M_thr__L_e</td>\n",
       "      <td>-1.0</td>\n",
       "    </tr>\n",
       "    <tr>\n",
       "      <th>31</th>\n",
       "      <td>M_trp__L_e</td>\n",
       "      <td>-1.0</td>\n",
       "    </tr>\n",
       "    <tr>\n",
       "      <th>32</th>\n",
       "      <td>M_tyr__L_e</td>\n",
       "      <td>-1.0</td>\n",
       "    </tr>\n",
       "    <tr>\n",
       "      <th>33</th>\n",
       "      <td>M_val__L_e</td>\n",
       "      <td>-1.0</td>\n",
       "    </tr>\n",
       "    <tr>\n",
       "      <th>34</th>\n",
       "      <td>M_cobalt2_e</td>\n",
       "      <td>-1.0</td>\n",
       "    </tr>\n",
       "    <tr>\n",
       "      <th>35</th>\n",
       "      <td>M_cl_e</td>\n",
       "      <td>-1.0</td>\n",
       "    </tr>\n",
       "    <tr>\n",
       "      <th>36</th>\n",
       "      <td>M_ca2_e</td>\n",
       "      <td>-1.0</td>\n",
       "    </tr>\n",
       "    <tr>\n",
       "      <th>37</th>\n",
       "      <td>M_cu2_e</td>\n",
       "      <td>-1.0</td>\n",
       "    </tr>\n",
       "    <tr>\n",
       "      <th>38</th>\n",
       "      <td>M_mn2_e</td>\n",
       "      <td>-1.0</td>\n",
       "    </tr>\n",
       "    <tr>\n",
       "      <th>39</th>\n",
       "      <td>M_mg2_e</td>\n",
       "      <td>-1.0</td>\n",
       "    </tr>\n",
       "    <tr>\n",
       "      <th>40</th>\n",
       "      <td>M_zn2_e</td>\n",
       "      <td>-1.0</td>\n",
       "    </tr>\n",
       "    <tr>\n",
       "      <th>41</th>\n",
       "      <td>M_fe2_e</td>\n",
       "      <td>-1.0</td>\n",
       "    </tr>\n",
       "    <tr>\n",
       "      <th>42</th>\n",
       "      <td>M_fe3_e</td>\n",
       "      <td>-1.0</td>\n",
       "    </tr>\n",
       "    <tr>\n",
       "      <th>43</th>\n",
       "      <td>M_so4_e</td>\n",
       "      <td>-1.0</td>\n",
       "    </tr>\n",
       "    <tr>\n",
       "      <th>44</th>\n",
       "      <td>M_mobd_e</td>\n",
       "      <td>-1.0</td>\n",
       "    </tr>\n",
       "    <tr>\n",
       "      <th>45</th>\n",
       "      <td>M_cit_e</td>\n",
       "      <td>-1.0</td>\n",
       "    </tr>\n",
       "    <tr>\n",
       "      <th>46</th>\n",
       "      <td>M_4abz_e</td>\n",
       "      <td>-1.0</td>\n",
       "    </tr>\n",
       "    <tr>\n",
       "      <th>47</th>\n",
       "      <td>M_ribflv_e</td>\n",
       "      <td>-1.0</td>\n",
       "    </tr>\n",
       "    <tr>\n",
       "      <th>48</th>\n",
       "      <td>M_fol_e</td>\n",
       "      <td>-1.0</td>\n",
       "    </tr>\n",
       "    <tr>\n",
       "      <th>49</th>\n",
       "      <td>M_inost_e</td>\n",
       "      <td>-1.0</td>\n",
       "    </tr>\n",
       "    <tr>\n",
       "      <th>50</th>\n",
       "      <td>M_pydx_e</td>\n",
       "      <td>-1.0</td>\n",
       "    </tr>\n",
       "    <tr>\n",
       "      <th>51</th>\n",
       "      <td>M_pydam_e</td>\n",
       "      <td>-1.0</td>\n",
       "    </tr>\n",
       "    <tr>\n",
       "      <th>52</th>\n",
       "      <td>M_cbl2_e</td>\n",
       "      <td>-1.0</td>\n",
       "    </tr>\n",
       "    <tr>\n",
       "      <th>53</th>\n",
       "      <td>M_btn_e</td>\n",
       "      <td>-1.0</td>\n",
       "    </tr>\n",
       "    <tr>\n",
       "      <th>54</th>\n",
       "      <td>M_thm_e</td>\n",
       "      <td>-1.0</td>\n",
       "    </tr>\n",
       "    <tr>\n",
       "      <th>55</th>\n",
       "      <td>M_nac_e</td>\n",
       "      <td>-1.0</td>\n",
       "    </tr>\n",
       "    <tr>\n",
       "      <th>56</th>\n",
       "      <td>M_pnto__R_e</td>\n",
       "      <td>-1.0</td>\n",
       "    </tr>\n",
       "  </tbody>\n",
       "</table>\n",
       "</div>"
      ],
      "text/plain": [
       "     Metabolite  Input Flux Lower Bound\n",
       "0    M_glc__D_e                   -10.0\n",
       "1    M_lac__D_e                   -10.0\n",
       "2         M_h_e                   -10.0\n",
       "3       M_nh4_e                   -10.0\n",
       "4       M_h2o_e                   -10.0\n",
       "5       M_co2_e                   -10.0\n",
       "6        M_pi_e                   -10.0\n",
       "7        M_o2_e                   -20.0\n",
       "8         M_k_e                   -10.0\n",
       "9       M_na1_e                   -10.0\n",
       "10      M_ade_e                    -1.5\n",
       "11      M_gua_e                    -1.5\n",
       "12      M_csn_e                    -1.5\n",
       "13      M_ura_e                    -1.5\n",
       "14   M_gln__L_e                    -5.0\n",
       "15      M_gly_e                    -2.0\n",
       "16   M_ala__L_e                    -1.0\n",
       "17   M_arg__L_e                    -1.0\n",
       "18   M_asp__L_e                    -2.0\n",
       "19   M_asn__L_e                    -2.0\n",
       "20   M_cys__L_e                    -1.0\n",
       "21   M_glu__L_e                    -2.0\n",
       "22   M_his__L_e                    -1.0\n",
       "23   M_ile__L_e                    -1.0\n",
       "24   M_leu__L_e                    -1.0\n",
       "25   M_lys__L_e                    -1.0\n",
       "26   M_met__L_e                    -1.0\n",
       "27   M_phe__L_e                    -1.0\n",
       "28   M_pro__L_e                    -2.0\n",
       "29   M_ser__L_e                    -2.0\n",
       "30   M_thr__L_e                    -1.0\n",
       "31   M_trp__L_e                    -1.0\n",
       "32   M_tyr__L_e                    -1.0\n",
       "33   M_val__L_e                    -1.0\n",
       "34  M_cobalt2_e                    -1.0\n",
       "35       M_cl_e                    -1.0\n",
       "36      M_ca2_e                    -1.0\n",
       "37      M_cu2_e                    -1.0\n",
       "38      M_mn2_e                    -1.0\n",
       "39      M_mg2_e                    -1.0\n",
       "40      M_zn2_e                    -1.0\n",
       "41      M_fe2_e                    -1.0\n",
       "42      M_fe3_e                    -1.0\n",
       "43      M_so4_e                    -1.0\n",
       "44     M_mobd_e                    -1.0\n",
       "45      M_cit_e                    -1.0\n",
       "46     M_4abz_e                    -1.0\n",
       "47   M_ribflv_e                    -1.0\n",
       "48      M_fol_e                    -1.0\n",
       "49    M_inost_e                    -1.0\n",
       "50     M_pydx_e                    -1.0\n",
       "51    M_pydam_e                    -1.0\n",
       "52     M_cbl2_e                    -1.0\n",
       "53      M_btn_e                    -1.0\n",
       "54      M_thm_e                    -1.0\n",
       "55      M_nac_e                    -1.0\n",
       "56  M_pnto__R_e                    -1.0"
      ]
     },
     "execution_count": 6,
     "metadata": {},
     "output_type": "execute_result"
    }
   ],
   "source": [
    "import pandas\n",
    "df = pandas.DataFrame(medium, columns=['Metabolite', 'Input Flux Lower Bound'])\n",
    "df['Input Flux Lower Bound'] *= -1\n",
    "df"
   ]
  },
  {
   "cell_type": "markdown",
   "id": "beaaadd2",
   "metadata": {},
   "source": [
    "# iPae1146 metabolic model adaptation to the medium"
   ]
  },
  {
   "cell_type": "markdown",
   "id": "2555e3d0",
   "metadata": {},
   "source": [
    "As preliminary work, all reactions and metabolites from iPae1146 were renamed from SEED Compound/Reactions numbers to more standardized BiGG reaction names. This allows easier work with the model."
   ]
  },
  {
   "cell_type": "code",
   "execution_count": 7,
   "id": "a8407d30",
   "metadata": {},
   "outputs": [],
   "source": [
    "model = cobra.io.read_sbml_model('iPae_1146.xml')"
   ]
  },
  {
   "cell_type": "code",
   "execution_count": 13,
   "id": "857a4ba8",
   "metadata": {},
   "outputs": [
    {
     "data": {
      "text/html": [
       "\n",
       "        <table>\n",
       "            <tr>\n",
       "                <td><strong>Name</strong></td>\n",
       "                <td>iPae1146</td>\n",
       "            </tr><tr>\n",
       "                <td><strong>Memory address</strong></td>\n",
       "                <td>0x07fa07c80c5b0</td>\n",
       "            </tr><tr>\n",
       "                <td><strong>Number of metabolites</strong></td>\n",
       "                <td>1282</td>\n",
       "            </tr><tr>\n",
       "                <td><strong>Number of reactions</strong></td>\n",
       "                <td>1493</td>\n",
       "            </tr><tr>\n",
       "                <td><strong>Number of groups</strong></td>\n",
       "                <td>77</td>\n",
       "            </tr><tr>\n",
       "                <td><strong>Objective expression</strong></td>\n",
       "                <td>1.0*PAO1_Biomass - 1.0*PAO1_Biomass_reverse_55fa3</td>\n",
       "            </tr><tr>\n",
       "                <td><strong>Compartments</strong></td>\n",
       "                <td>Cytoplasm, Extracellular</td>\n",
       "            </tr>\n",
       "          </table>"
      ],
      "text/plain": [
       "<Model iPae1146 at 0x7fa07c80c5b0>"
      ]
     },
     "execution_count": 13,
     "metadata": {},
     "output_type": "execute_result"
    }
   ],
   "source": [
    "model"
   ]
  },
  {
   "cell_type": "code",
   "execution_count": 9,
   "id": "29dbd808",
   "metadata": {},
   "outputs": [
    {
     "data": {
      "text/plain": [
       "{'EX_co2_e': 10.0,\n",
       " 'EX_glc_D_e': 10.0,\n",
       " 'EX_lac_D_e': 10.0,\n",
       " 'EX_fe2_e': 10.0,\n",
       " 'EX_gly_e': 10.0,\n",
       " 'EX_h_e': 10.0,\n",
       " 'EX_h2o_e': 10.0,\n",
       " 'EX_k_e': 10.0,\n",
       " 'EX_ala_L_e': 10.0,\n",
       " 'EX_arg_L_e': 10.0,\n",
       " 'EX_asp_L_e': 10.0,\n",
       " 'EX_cys_L_e': 10.0,\n",
       " 'EX_glu_L_e': 10.0,\n",
       " 'EX_his_L_e': 10.0,\n",
       " 'EX_ile_L_e': 10.0,\n",
       " 'EX_leu_L_e': 10.0,\n",
       " 'EX_lys_L_e': 10.0,\n",
       " 'EX_met_L_e': 10.0,\n",
       " 'EX_phe_L_e': 10.0,\n",
       " 'EX_pro_L_e': 10.0,\n",
       " 'EX_ser_L_e': 10.0,\n",
       " 'EX_thr_L_e': 10.0,\n",
       " 'EX_trp_L_e': 10.0,\n",
       " 'EX_tyr_L_e': 10.0,\n",
       " 'EX_val_L_e': 10.0,\n",
       " 'EX_mg2_e': 10.0,\n",
       " 'EX_na_e': 10.0,\n",
       " 'EX_nh3_e': 10.0,\n",
       " 'EX_no3_e': 10.0,\n",
       " 'EX_o2_e': 20.0,\n",
       " 'EX_orn_e': 10.0,\n",
       " 'EX_pi_e': 10.0,\n",
       " 'EX_so4_e': 10.0}"
      ]
     },
     "execution_count": 9,
     "metadata": {},
     "output_type": "execute_result"
    }
   ],
   "source": [
    "model.medium"
   ]
  },
  {
   "cell_type": "code",
   "execution_count": 6,
   "id": "75728553",
   "metadata": {},
   "outputs": [
    {
     "data": {
      "text/html": [
       "\n",
       "        <table>\n",
       "            <tr>\n",
       "                <td><strong>Reaction identifier</strong></td><td>EX_nh3_e</td>\n",
       "            </tr><tr>\n",
       "                <td><strong>Name</strong></td><td>EX NH3 e</td>\n",
       "            </tr><tr>\n",
       "                <td><strong>Memory address</strong></td>\n",
       "                <td>0x07f4b4c1648e0</td>\n",
       "            </tr><tr>\n",
       "                <td><strong>Stoichiometry</strong></td>\n",
       "                <td>\n",
       "                    <p style='text-align:right'>nh4_e <=> </p>\n",
       "                    <p style='text-align:right'>NH3 <=> </p>\n",
       "                </td>\n",
       "            </tr><tr>\n",
       "                <td><strong>GPR</strong></td><td></td>\n",
       "            </tr><tr>\n",
       "                <td><strong>Lower bound</strong></td><td>-10.0</td>\n",
       "            </tr><tr>\n",
       "                <td><strong>Upper bound</strong></td><td>1000.0</td>\n",
       "            </tr>\n",
       "        </table>\n",
       "        "
      ],
      "text/plain": [
       "<Reaction EX_nh3_e at 0x7f4b4c1648e0>"
      ]
     },
     "execution_count": 6,
     "metadata": {},
     "output_type": "execute_result"
    }
   ],
   "source": [
    "model.reactions.EX_nh3_e"
   ]
  },
  {
   "cell_type": "markdown",
   "id": "19f173d5",
   "metadata": {},
   "source": [
    "A few reactions names do not align with the BiGG standard completely. Renaming was done automatically based on the reactants and products metabolite names, chemical formulae, and SEED Compound/Reactions entries, with further manual reviewing afterwards. \n",
    "\n",
    "Reactions and metabolites with no direct attached SEED entry were handled manually."
   ]
  },
  {
   "cell_type": "code",
   "execution_count": 7,
   "id": "91161029",
   "metadata": {},
   "outputs": [],
   "source": [
    "model.reactions.EX_nh3_e.id = \"EX_nh4_e\"\n",
    "model.reactions.EX_na_e.id = \"EX_na1_e\""
   ]
  },
  {
   "cell_type": "code",
   "execution_count": 8,
   "id": "a0b17756",
   "metadata": {},
   "outputs": [],
   "source": [
    "to_xreaction = lambda x: 'EX_' + x[2:-2].replace('__', '_') + '_e'"
   ]
  },
  {
   "cell_type": "markdown",
   "id": "64c7d350",
   "metadata": {},
   "source": [
    "Flux bounds defining the medium are reset."
   ]
  },
  {
   "cell_type": "code",
   "execution_count": 9,
   "id": "d564516b",
   "metadata": {},
   "outputs": [],
   "source": [
    "for ex, lb in model.medium.items():\n",
    "    model.reactions.get_by_id(ex).lower_bound = 0"
   ]
  },
  {
   "cell_type": "markdown",
   "id": "f84c891a",
   "metadata": {},
   "source": [
    "*Pseudomonas aeruginosa* has been known to not metabolize adenine and guanine, as attests Bergmann et al. 1969.\n",
    "\n",
    "Accordingly, the bacteria does not possess transporters for the purines.\n",
    "\n",
    "Sadly, the bacteria does not seem to possess transporters for many other molecules from the medium, including Biotin, Riboflavin, 4ABZ, Nicotinate, Folate, Panthotenate, Pyridoxal and Pyridoxamine."
   ]
  },
  {
   "cell_type": "code",
   "execution_count": 10,
   "id": "317f27b3",
   "metadata": {},
   "outputs": [],
   "source": [
    "from cobra.core import Reaction"
   ]
  },
  {
   "cell_type": "markdown",
   "id": "3213e7ae",
   "metadata": {},
   "source": [
    "For certain of those metabolites, we could make the risky hypothesis that a transporter must somehow exist, considering one or several reactions related to that compound were found in the core-genome. \n",
    "\n",
    "This will be done later for *S. aureus* with pyridoxal family transporters for biomass considerations and in accordance with catalyzer data, detailed below.\n",
    "\n",
    "On this model, we chose to add transporters and exchange reactions for pyocyanin, a known inhibitor of *S. aureus* growth.\n",
    "\n",
    "For the sake of consistency with the rest of the model when it annotates reactions with unknown transporters, reactions and GPR rules are copied from the Thiamin transporter (which harbors an OR rule between several putative transporter proteins)."
   ]
  },
  {
   "cell_type": "code",
   "execution_count": 11,
   "id": "c94084ec",
   "metadata": {},
   "outputs": [],
   "source": [
    "thiam_t = model.reactions.get_by_id('THI7')\n",
    "thm_e = model.metabolites.get_by_id('thm_e')\n",
    "thm_c = model.metabolites.get_by_id('thm_c')\n",
    "h_e = model.metabolites.get_by_id('h_e')\n",
    "h_c = model.metabolites.get_by_id('h_c')"
   ]
  },
  {
   "cell_type": "code",
   "execution_count": 12,
   "id": "8ec60535",
   "metadata": {},
   "outputs": [],
   "source": [
    "pyo_e = model.metabolites.get_by_id('pyo_c').copy()\n",
    "(pyo_e.id, pyo_e.compartment) = (pyo_e.id[:-2]+'_e', 'e')\n",
    "pyo_c = model.metabolites.get_by_id('pyo_c')\n",
    "pyo_t = thiam_t.copy()\n",
    "pyo_t.lower_bound = 0\n",
    "pyo_t.add_metabolites({thm_e: 1, thm_c: -1, pyo_c: -1, pyo_e: 1})\n",
    "(pyo_t.id, pyo_t.name) = ('PYOt','Pyocyanin Transport')"
   ]
  },
  {
   "cell_type": "code",
   "execution_count": 13,
   "id": "eb3fd0ab",
   "metadata": {},
   "outputs": [],
   "source": [
    "model.add_reactions([pyo_t])"
   ]
  },
  {
   "cell_type": "code",
   "execution_count": 14,
   "id": "944bff64",
   "metadata": {},
   "outputs": [],
   "source": [
    "for met in [pyo_e]:\n",
    "    r = model.add_boundary(met)\n",
    "    r.lower_bound = 0"
   ]
  },
  {
   "cell_type": "markdown",
   "id": "706ae5b5",
   "metadata": {},
   "source": [
    "Reset bounds of reactions set to zero (or fixed to another value) by the original modeler team.\n",
    "\n",
    "CoBamP does this resetting process by default so this is required for accurate comparison."
   ]
  },
  {
   "cell_type": "code",
   "execution_count": 15,
   "id": "9f7e215b",
   "metadata": {},
   "outputs": [
    {
     "name": "stdout",
     "output_type": "stream",
     "text": [
      "NADH6: 45.0 h_c + nadh_c + q8_c --> 35.0 h_e + nad_c + q8h2_c (0.0, 0.0)\n",
      "GND: 6pgc_c + nadp_c --> co2_c + nadph_c + ru5p_D_c (0.0, 0.0)\n",
      "ME1: mal__L_c + nad_c --> co2_c + nadh_c + pyr_c (0.0, 0.0)\n",
      "G1Dy2: glc__D_e + nadp_c --> g15lac_e + h_c + nadph_c (0.0, 0.0)\n",
      "ICDHy: icit_c + nadp_c --> akg_c + co2_c + nadph_c (0.0, 0.0)\n",
      "PPACOAL: ppad_c + ppi_c --> atp_c + h_c + ppa_c (0.0, 0.0)\n",
      "FRD2: fum_c + mql8_c --> mqn8_c + succ_c (0.0, 0.0)\n",
      "CAT: 2.0 h2o2_c --> 2.0 h2o_c + o2_c (0.0, 0.0)\n",
      "PTA2: h_c + pi_c + ppcoa_c --> coa_c + ppap_c (0.0, 0.0)\n",
      "PPAK: atp_c + h_c + ppa_c --> adp_c + ppap_c (0.0, 0.0)\n",
      "DHORD5: dhor_S_c + mqn8_c --> mql8_c + orot_c (0.0, 0.0)\n",
      "sink_THFGLU: thfglu_c -->  (0.0, 0.0)\n",
      "EX_GLCN_e: glcn_e -->  (0.0, 0.0)\n",
      "EX_2KGLCN_e: 2dhglcn_e -->  (0.0, 0.0)\n",
      "ATPM: atp_c + h2o_c --> adp_c + h_c + pi_c (8.39, 8.39)\n"
     ]
    }
   ],
   "source": [
    "pae_zeros = [] # list of reactions to reset bounds from\n",
    "for reaction in model.reactions:\n",
    "    if reaction.bounds not in [(-1000, 1000), (0, 1000), (-1000, 0), (-999999, 999999), (0, 999999), (-999999, 0)]:\n",
    "        print(reaction, reaction.bounds)\n",
    "        pae_zeros.append(reaction)\n",
    "#pae_zeros = pae_zeros[:-1] # exclude \"_reduced\" reaction\n",
    "pae_zeros = [reaction.id for reaction in pae_zeros] # get reaction ids for bounds resetting"
   ]
  },
  {
   "cell_type": "code",
   "execution_count": 16,
   "id": "231aeded",
   "metadata": {},
   "outputs": [],
   "source": [
    "for reaction in pae_zeros:\n",
    "    model.reactions.get_by_id(reaction).lower_bound = 0\n",
    "    model.reactions.get_by_id(reaction).upper_bound = 1000"
   ]
  },
  {
   "cell_type": "markdown",
   "id": "f95c1f23",
   "metadata": {},
   "source": [
    "Now, we can change flux bounds for our reactions according to the medium."
   ]
  },
  {
   "cell_type": "code",
   "execution_count": 17,
   "id": "8e630a10",
   "metadata": {},
   "outputs": [],
   "source": [
    "for i, m, lb in df.itertuples():\n",
    "    if (m == 'M_ade_e' or m == 'M_gua_e') or (m == 'M_ribflv_e' or m == 'M_4abz_e') or (m == 'M_btn_e') or \\\n",
    "       (m == 'M_fol_e' or m == 'M_nac_e' or m == 'M_pnto__R_e') or (m == 'M_pydx_e' or m == 'M_pydam_e'):\n",
    "        continue\n",
    "    model.reactions.get_by_id(to_xreaction(m)).bounds = (lb, 1000.0)"
   ]
  },
  {
   "cell_type": "code",
   "execution_count": 18,
   "id": "ed06acba",
   "metadata": {},
   "outputs": [
    {
     "data": {
      "text/html": [
       "<strong><em>Optimal</em> solution with objective value 4.686</strong><br><div>\n",
       "<style scoped>\n",
       "    .dataframe tbody tr th:only-of-type {\n",
       "        vertical-align: middle;\n",
       "    }\n",
       "\n",
       "    .dataframe tbody tr th {\n",
       "        vertical-align: top;\n",
       "    }\n",
       "\n",
       "    .dataframe thead th {\n",
       "        text-align: right;\n",
       "    }\n",
       "</style>\n",
       "<table border=\"1\" class=\"dataframe\">\n",
       "  <thead>\n",
       "    <tr style=\"text-align: right;\">\n",
       "      <th></th>\n",
       "      <th>fluxes</th>\n",
       "      <th>reduced_costs</th>\n",
       "    </tr>\n",
       "  </thead>\n",
       "  <tbody>\n",
       "    <tr>\n",
       "      <th>ACOAD4f</th>\n",
       "      <td>0.0</td>\n",
       "      <td>0.000000</td>\n",
       "    </tr>\n",
       "    <tr>\n",
       "      <th>ACOAD5f</th>\n",
       "      <td>0.0</td>\n",
       "      <td>0.000000</td>\n",
       "    </tr>\n",
       "    <tr>\n",
       "      <th>ACOAD7f</th>\n",
       "      <td>0.0</td>\n",
       "      <td>0.000000</td>\n",
       "    </tr>\n",
       "    <tr>\n",
       "      <th>ACOAD3f</th>\n",
       "      <td>0.0</td>\n",
       "      <td>-0.215028</td>\n",
       "    </tr>\n",
       "    <tr>\n",
       "      <th>ACOAD6f</th>\n",
       "      <td>0.0</td>\n",
       "      <td>0.000000</td>\n",
       "    </tr>\n",
       "    <tr>\n",
       "      <th>...</th>\n",
       "      <td>...</td>\n",
       "      <td>...</td>\n",
       "    </tr>\n",
       "    <tr>\n",
       "      <th>DSFSc</th>\n",
       "      <td>0.0</td>\n",
       "      <td>0.000000</td>\n",
       "    </tr>\n",
       "    <tr>\n",
       "      <th>DSFSa</th>\n",
       "      <td>0.0</td>\n",
       "      <td>-0.000000</td>\n",
       "    </tr>\n",
       "    <tr>\n",
       "      <th>DSFR</th>\n",
       "      <td>0.0</td>\n",
       "      <td>0.000000</td>\n",
       "    </tr>\n",
       "    <tr>\n",
       "      <th>PYOt</th>\n",
       "      <td>0.0</td>\n",
       "      <td>-0.382273</td>\n",
       "    </tr>\n",
       "    <tr>\n",
       "      <th>EX_pyo_e</th>\n",
       "      <td>-0.0</td>\n",
       "      <td>0.000000</td>\n",
       "    </tr>\n",
       "  </tbody>\n",
       "</table>\n",
       "<p>1495 rows × 2 columns</p>\n",
       "</div>"
      ],
      "text/plain": [
       "<Solution 4.686 at 0x7f4b4c067460>"
      ]
     },
     "execution_count": 18,
     "metadata": {},
     "output_type": "execute_result"
    }
   ],
   "source": [
    "model.optimize()"
   ]
  },
  {
   "cell_type": "code",
   "execution_count": 19,
   "id": "1537005f",
   "metadata": {},
   "outputs": [
    {
     "data": {
      "text/html": [
       "<h3>Objective</h3><p>1.0 PAO1_Biomass = 4.685827950659058</p><h4>Uptake</h4><table border=\"1\" class=\"dataframe\">\n",
       "  <thead>\n",
       "    <tr style=\"text-align: right;\">\n",
       "      <th>Metabolite</th>\n",
       "      <th>Reaction</th>\n",
       "      <th>Flux</th>\n",
       "      <th>C-Number</th>\n",
       "      <th>C-Flux</th>\n",
       "    </tr>\n",
       "  </thead>\n",
       "  <tbody>\n",
       "    <tr>\n",
       "      <td>ala__L_e</td>\n",
       "      <td>EX_ala_L_e</td>\n",
       "      <td>1</td>\n",
       "      <td>3</td>\n",
       "      <td>1.25%</td>\n",
       "    </tr>\n",
       "    <tr>\n",
       "      <td>arg__L_e</td>\n",
       "      <td>EX_arg_L_e</td>\n",
       "      <td>1</td>\n",
       "      <td>6</td>\n",
       "      <td>2.51%</td>\n",
       "    </tr>\n",
       "    <tr>\n",
       "      <td>asn__L_e</td>\n",
       "      <td>EX_asn_L_e</td>\n",
       "      <td>2</td>\n",
       "      <td>4</td>\n",
       "      <td>3.34%</td>\n",
       "    </tr>\n",
       "    <tr>\n",
       "      <td>asp__L_e</td>\n",
       "      <td>EX_asp_L_e</td>\n",
       "      <td>2</td>\n",
       "      <td>4</td>\n",
       "      <td>3.34%</td>\n",
       "    </tr>\n",
       "    <tr>\n",
       "      <td>cit_e</td>\n",
       "      <td>EX_cit_e</td>\n",
       "      <td>1</td>\n",
       "      <td>6</td>\n",
       "      <td>2.51%</td>\n",
       "    </tr>\n",
       "    <tr>\n",
       "      <td>csn_e</td>\n",
       "      <td>EX_csn_e</td>\n",
       "      <td>0.1364</td>\n",
       "      <td>4</td>\n",
       "      <td>0.23%</td>\n",
       "    </tr>\n",
       "    <tr>\n",
       "      <td>fe2_e</td>\n",
       "      <td>EX_fe2_e</td>\n",
       "      <td>0.0004686</td>\n",
       "      <td>0</td>\n",
       "      <td>0.00%</td>\n",
       "    </tr>\n",
       "    <tr>\n",
       "      <td>glc__D_e</td>\n",
       "      <td>EX_glc_D_e</td>\n",
       "      <td>10</td>\n",
       "      <td>6</td>\n",
       "      <td>25.08%</td>\n",
       "    </tr>\n",
       "    <tr>\n",
       "      <td>gln__L_e</td>\n",
       "      <td>EX_gln_L_e</td>\n",
       "      <td>5</td>\n",
       "      <td>5</td>\n",
       "      <td>10.45%</td>\n",
       "    </tr>\n",
       "    <tr>\n",
       "      <td>glu__L_e</td>\n",
       "      <td>EX_glu_L_e</td>\n",
       "      <td>2</td>\n",
       "      <td>5</td>\n",
       "      <td>4.18%</td>\n",
       "    </tr>\n",
       "    <tr>\n",
       "      <td>gly_e</td>\n",
       "      <td>EX_gly_e</td>\n",
       "      <td>2</td>\n",
       "      <td>2</td>\n",
       "      <td>1.67%</td>\n",
       "    </tr>\n",
       "    <tr>\n",
       "      <td>h_e</td>\n",
       "      <td>EX_h_e</td>\n",
       "      <td>10</td>\n",
       "      <td>0</td>\n",
       "      <td>0.00%</td>\n",
       "    </tr>\n",
       "    <tr>\n",
       "      <td>his__L_e</td>\n",
       "      <td>EX_his_L_e</td>\n",
       "      <td>1</td>\n",
       "      <td>6</td>\n",
       "      <td>2.51%</td>\n",
       "    </tr>\n",
       "    <tr>\n",
       "      <td>ile__L_e</td>\n",
       "      <td>EX_ile_L_e</td>\n",
       "      <td>1</td>\n",
       "      <td>6</td>\n",
       "      <td>2.51%</td>\n",
       "    </tr>\n",
       "    <tr>\n",
       "      <td>lac__D_e</td>\n",
       "      <td>EX_lac_D_e</td>\n",
       "      <td>10</td>\n",
       "      <td>3</td>\n",
       "      <td>12.54%</td>\n",
       "    </tr>\n",
       "    <tr>\n",
       "      <td>leu__L_e</td>\n",
       "      <td>EX_leu_L_e</td>\n",
       "      <td>1</td>\n",
       "      <td>6</td>\n",
       "      <td>2.51%</td>\n",
       "    </tr>\n",
       "    <tr>\n",
       "      <td>lys__L_e</td>\n",
       "      <td>EX_lys_L_e</td>\n",
       "      <td>1</td>\n",
       "      <td>6</td>\n",
       "      <td>2.51%</td>\n",
       "    </tr>\n",
       "    <tr>\n",
       "      <td>met__L_e</td>\n",
       "      <td>EX_met_L_e</td>\n",
       "      <td>0.5688</td>\n",
       "      <td>5</td>\n",
       "      <td>1.19%</td>\n",
       "    </tr>\n",
       "    <tr>\n",
       "      <td>nh4_e</td>\n",
       "      <td>EX_nh4_e</td>\n",
       "      <td>10</td>\n",
       "      <td>0</td>\n",
       "      <td>0.00%</td>\n",
       "    </tr>\n",
       "    <tr>\n",
       "      <td>o2_e</td>\n",
       "      <td>EX_o2_e</td>\n",
       "      <td>6.383</td>\n",
       "      <td>0</td>\n",
       "      <td>0.00%</td>\n",
       "    </tr>\n",
       "    <tr>\n",
       "      <td>phe__L_e</td>\n",
       "      <td>EX_phe_L_e</td>\n",
       "      <td>1</td>\n",
       "      <td>9</td>\n",
       "      <td>3.76%</td>\n",
       "    </tr>\n",
       "    <tr>\n",
       "      <td>pro__L_e</td>\n",
       "      <td>EX_pro_L_e</td>\n",
       "      <td>2</td>\n",
       "      <td>5</td>\n",
       "      <td>4.18%</td>\n",
       "    </tr>\n",
       "    <tr>\n",
       "      <td>ser__L_e</td>\n",
       "      <td>EX_ser_L_e</td>\n",
       "      <td>2</td>\n",
       "      <td>3</td>\n",
       "      <td>2.51%</td>\n",
       "    </tr>\n",
       "    <tr>\n",
       "      <td>thr__L_e</td>\n",
       "      <td>EX_thr_L_e</td>\n",
       "      <td>1</td>\n",
       "      <td>4</td>\n",
       "      <td>1.67%</td>\n",
       "    </tr>\n",
       "    <tr>\n",
       "      <td>trp__L_e</td>\n",
       "      <td>EX_trp_L_e</td>\n",
       "      <td>0.2603</td>\n",
       "      <td>11</td>\n",
       "      <td>1.20%</td>\n",
       "    </tr>\n",
       "    <tr>\n",
       "      <td>tyr__L_e</td>\n",
       "      <td>EX_tyr_L_e</td>\n",
       "      <td>1</td>\n",
       "      <td>9</td>\n",
       "      <td>3.76%</td>\n",
       "    </tr>\n",
       "    <tr>\n",
       "      <td>ura_e</td>\n",
       "      <td>EX_ura_e</td>\n",
       "      <td>1.5</td>\n",
       "      <td>4</td>\n",
       "      <td>2.51%</td>\n",
       "    </tr>\n",
       "    <tr>\n",
       "      <td>val__L_e</td>\n",
       "      <td>EX_val_L_e</td>\n",
       "      <td>1</td>\n",
       "      <td>5</td>\n",
       "      <td>2.09%</td>\n",
       "    </tr>\n",
       "  </tbody>\n",
       "</table><h4>Secretion</h4><table border=\"1\" class=\"dataframe\">\n",
       "  <thead>\n",
       "    <tr style=\"text-align: right;\">\n",
       "      <th>Metabolite</th>\n",
       "      <th>Reaction</th>\n",
       "      <th>Flux</th>\n",
       "      <th>C-Number</th>\n",
       "      <th>C-Flux</th>\n",
       "    </tr>\n",
       "  </thead>\n",
       "  <tbody>\n",
       "    <tr>\n",
       "      <td>ac_e</td>\n",
       "      <td>EX_ac_e</td>\n",
       "      <td>-4.807</td>\n",
       "      <td>2</td>\n",
       "      <td>19.19%</td>\n",
       "    </tr>\n",
       "    <tr>\n",
       "      <td>acac_e</td>\n",
       "      <td>EX_acac_e</td>\n",
       "      <td>-1.433</td>\n",
       "      <td>4</td>\n",
       "      <td>11.45%</td>\n",
       "    </tr>\n",
       "    <tr>\n",
       "      <td>co2_e</td>\n",
       "      <td>EX_co2_e</td>\n",
       "      <td>-28.76</td>\n",
       "      <td>1</td>\n",
       "      <td>57.41%</td>\n",
       "    </tr>\n",
       "    <tr>\n",
       "      <td>glyclt_e</td>\n",
       "      <td>EX_glyclt_e</td>\n",
       "      <td>-0.0004686</td>\n",
       "      <td>2</td>\n",
       "      <td>0.00%</td>\n",
       "    </tr>\n",
       "    <tr>\n",
       "      <td>h2o_e</td>\n",
       "      <td>EX_h2o_e</td>\n",
       "      <td>-40.22</td>\n",
       "      <td>0</td>\n",
       "      <td>0.00%</td>\n",
       "    </tr>\n",
       "    <tr>\n",
       "      <td>pi_e</td>\n",
       "      <td>EX_pi_e</td>\n",
       "      <td>-1.956</td>\n",
       "      <td>0</td>\n",
       "      <td>0.00%</td>\n",
       "    </tr>\n",
       "    <tr>\n",
       "      <td>ppa_e</td>\n",
       "      <td>EX_ppa_e</td>\n",
       "      <td>-0.4462</td>\n",
       "      <td>3</td>\n",
       "      <td>2.67%</td>\n",
       "    </tr>\n",
       "    <tr>\n",
       "      <td>urea_e</td>\n",
       "      <td>EX_urea_e</td>\n",
       "      <td>-4.646</td>\n",
       "      <td>1</td>\n",
       "      <td>9.27%</td>\n",
       "    </tr>\n",
       "  </tbody>\n",
       "</table>"
      ],
      "text/plain": [
       "<cobra.summary.model_summary.ModelSummary at 0x7f4b4c028df0>"
      ]
     },
     "execution_count": 19,
     "metadata": {},
     "output_type": "execute_result"
    }
   ],
   "source": [
    "model.summary()"
   ]
  },
  {
   "cell_type": "code",
   "execution_count": 20,
   "id": "c554a5eb",
   "metadata": {},
   "outputs": [
    {
     "data": {
      "text/plain": [
       "{'EX_ca2_e': 1.0,\n",
       " 'EX_cit_e': 1.0,\n",
       " 'EX_cl_e': 1.0,\n",
       " 'EX_co2_e': 10.0,\n",
       " 'EX_cobalt2_e': 1.0,\n",
       " 'EX_cu2_e': 1.0,\n",
       " 'EX_csn_e': 1.5,\n",
       " 'EX_glc_D_e': 10.0,\n",
       " 'EX_lac_D_e': 10.0,\n",
       " 'EX_fe2_e': 1.0,\n",
       " 'EX_fe3_e': 1.0,\n",
       " 'EX_gly_e': 2.0,\n",
       " 'EX_h_e': 10.0,\n",
       " 'EX_h2o_e': 10.0,\n",
       " 'EX_k_e': 10.0,\n",
       " 'EX_ala_L_e': 1.0,\n",
       " 'EX_arg_L_e': 1.0,\n",
       " 'EX_asn_L_e': 2.0,\n",
       " 'EX_asp_L_e': 2.0,\n",
       " 'EX_cys_L_e': 1.0,\n",
       " 'EX_glu_L_e': 2.0,\n",
       " 'EX_gln_L_e': 5.0,\n",
       " 'EX_his_L_e': 1.0,\n",
       " 'EX_inost_e': 1.0,\n",
       " 'EX_ile_L_e': 1.0,\n",
       " 'EX_leu_L_e': 1.0,\n",
       " 'EX_lys_L_e': 1.0,\n",
       " 'EX_met_L_e': 1.0,\n",
       " 'EX_phe_L_e': 1.0,\n",
       " 'EX_pro_L_e': 2.0,\n",
       " 'EX_ser_L_e': 2.0,\n",
       " 'EX_thr_L_e': 1.0,\n",
       " 'EX_trp_L_e': 1.0,\n",
       " 'EX_tyr_L_e': 1.0,\n",
       " 'EX_val_L_e': 1.0,\n",
       " 'EX_mg2_e': 1.0,\n",
       " 'EX_mn2_e': 1.0,\n",
       " 'EX_mobd_e': 1.0,\n",
       " 'EX_na1_e': 10.0,\n",
       " 'EX_nh4_e': 10.0,\n",
       " 'EX_o2_e': 20.0,\n",
       " 'EX_pi_e': 10.0,\n",
       " 'EX_so4_e': 1.0,\n",
       " 'EX_thm_e': 1.0,\n",
       " 'EX_ura_e': 1.5,\n",
       " 'EX_cbl2_e': 1.0,\n",
       " 'EX_zn2_e': 1.0}"
      ]
     },
     "execution_count": 20,
     "metadata": {},
     "output_type": "execute_result"
    }
   ],
   "source": [
    "model.medium"
   ]
  },
  {
   "cell_type": "code",
   "execution_count": 21,
   "id": "0c694eb3",
   "metadata": {},
   "outputs": [],
   "source": [
    "cobra.io.write_sbml_model(model, 'iPae_1146_medium.xml')"
   ]
  },
  {
   "cell_type": "markdown",
   "id": "b973cbd6",
   "metadata": {},
   "source": [
    "# iYS854 metabolic model curation and adaptation to the medium"
   ]
  },
  {
   "cell_type": "markdown",
   "id": "c00cae67",
   "metadata": {},
   "source": [
    "This iPython notebook details the modifications made to the iYS854 *Staphylococcus aureus* model (Seif et al, 2019). "
   ]
  },
  {
   "cell_type": "code",
   "execution_count": 16,
   "id": "8006f69e",
   "metadata": {},
   "outputs": [],
   "source": [
    "import cobra"
   ]
  },
  {
   "cell_type": "code",
   "execution_count": 30,
   "id": "d9e9dc30",
   "metadata": {},
   "outputs": [],
   "source": [
    "model = cobra.io.read_sbml_model('iYS854.xml')"
   ]
  },
  {
   "cell_type": "code",
   "execution_count": 31,
   "id": "c6ff8931",
   "metadata": {},
   "outputs": [
    {
     "data": {
      "text/html": [
       "\n",
       "        <table>\n",
       "            <tr>\n",
       "                <td><strong>Name</strong></td>\n",
       "                <td>iYS854</td>\n",
       "            </tr><tr>\n",
       "                <td><strong>Memory address</strong></td>\n",
       "                <td>0x07fa077eaacd0</td>\n",
       "            </tr><tr>\n",
       "                <td><strong>Number of metabolites</strong></td>\n",
       "                <td>1335</td>\n",
       "            </tr><tr>\n",
       "                <td><strong>Number of reactions</strong></td>\n",
       "                <td>1455</td>\n",
       "            </tr><tr>\n",
       "                <td><strong>Number of groups</strong></td>\n",
       "                <td>0</td>\n",
       "            </tr><tr>\n",
       "                <td><strong>Objective expression</strong></td>\n",
       "                <td>1.0*BIOMASS_iYS_wild_type - 1.0*BIOMASS_iYS_wild_type_reverse_4a71b</td>\n",
       "            </tr><tr>\n",
       "                <td><strong>Compartments</strong></td>\n",
       "                <td>cytosol, extracellular space, wildtype staph aureus</td>\n",
       "            </tr>\n",
       "          </table>"
      ],
      "text/plain": [
       "<Model iYS854 at 0x7fa077eaacd0>"
      ]
     },
     "execution_count": 31,
     "metadata": {},
     "output_type": "execute_result"
    }
   ],
   "source": [
    "model"
   ]
  },
  {
   "cell_type": "code",
   "execution_count": 24,
   "id": "75b8614e",
   "metadata": {},
   "outputs": [
    {
     "data": {
      "text/html": [
       "<strong><em>Optimal</em> solution with objective value 1.360</strong><br><div>\n",
       "<style scoped>\n",
       "    .dataframe tbody tr th:only-of-type {\n",
       "        vertical-align: middle;\n",
       "    }\n",
       "\n",
       "    .dataframe tbody tr th {\n",
       "        vertical-align: top;\n",
       "    }\n",
       "\n",
       "    .dataframe thead th {\n",
       "        text-align: right;\n",
       "    }\n",
       "</style>\n",
       "<table border=\"1\" class=\"dataframe\">\n",
       "  <thead>\n",
       "    <tr style=\"text-align: right;\">\n",
       "      <th></th>\n",
       "      <th>fluxes</th>\n",
       "      <th>reduced_costs</th>\n",
       "    </tr>\n",
       "  </thead>\n",
       "  <tbody>\n",
       "    <tr>\n",
       "      <th>10M3HDHL</th>\n",
       "      <td>0.004124</td>\n",
       "      <td>0.000000e+00</td>\n",
       "    </tr>\n",
       "    <tr>\n",
       "      <th>10M3OACPO</th>\n",
       "      <td>0.078684</td>\n",
       "      <td>0.000000e+00</td>\n",
       "    </tr>\n",
       "    <tr>\n",
       "      <th>10M3OUO</th>\n",
       "      <td>0.004124</td>\n",
       "      <td>0.000000e+00</td>\n",
       "    </tr>\n",
       "    <tr>\n",
       "      <th>10MDOD</th>\n",
       "      <td>0.078684</td>\n",
       "      <td>1.110223e-16</td>\n",
       "    </tr>\n",
       "    <tr>\n",
       "      <th>10MTDAO</th>\n",
       "      <td>0.078684</td>\n",
       "      <td>0.000000e+00</td>\n",
       "    </tr>\n",
       "    <tr>\n",
       "      <th>...</th>\n",
       "      <td>...</td>\n",
       "      <td>...</td>\n",
       "    </tr>\n",
       "    <tr>\n",
       "      <th>BIOMASS_OtherSOLUTES_reduced</th>\n",
       "      <td>0.000000</td>\n",
       "      <td>-2.439455e-19</td>\n",
       "    </tr>\n",
       "    <tr>\n",
       "      <th>BIOMASS_LIPIDS_reduced</th>\n",
       "      <td>0.000000</td>\n",
       "      <td>0.000000e+00</td>\n",
       "    </tr>\n",
       "    <tr>\n",
       "      <th>BIOMASS_iYS_reduced</th>\n",
       "      <td>0.000000</td>\n",
       "      <td>-1.398564e+00</td>\n",
       "    </tr>\n",
       "    <tr>\n",
       "      <th>GLUt3</th>\n",
       "      <td>0.000000</td>\n",
       "      <td>-6.309021e-03</td>\n",
       "    </tr>\n",
       "    <tr>\n",
       "      <th>ASPte</th>\n",
       "      <td>0.000000</td>\n",
       "      <td>-6.309021e-03</td>\n",
       "    </tr>\n",
       "  </tbody>\n",
       "</table>\n",
       "<p>1455 rows × 2 columns</p>\n",
       "</div>"
      ],
      "text/plain": [
       "<Solution 1.360 at 0x7f4b4bb20d90>"
      ]
     },
     "execution_count": 24,
     "metadata": {},
     "output_type": "execute_result"
    }
   ],
   "source": [
    "model.optimize()"
   ]
  },
  {
   "cell_type": "code",
   "execution_count": 25,
   "id": "6f5df623",
   "metadata": {},
   "outputs": [
    {
     "name": "stdout",
     "output_type": "stream",
     "text": [
      "23CN2P2: 23cump_c + h2o_c <=> 3ump_c + h_c (-1000.0, 1000.0)\n",
      "23CN2P3: 23ccmp_c + h2o_c <=> 3cmp_c + h_c (-1000.0, 1000.0)\n",
      "23CN2P4: 23cgmp_c + h2o_c <=> 3gmp_c + h_c (-1000.0, 1000.0)\n",
      "3NUCLE2: 3ump_c + h2o_c <=> pi_c + uri_c (-1000.0, 1000.0)\n",
      "3NUCLE3: 3cmp_c + h2o_c <=> cytd_c + pi_c (-1000.0, 1000.0)\n",
      "3NUCLE4: 3gmp_c + h2o_c <=> gsn_c + pi_c (-1000.0, 1000.0)\n",
      "CO2t: co2_e <=> co2_c (-1000.0, 1000.0)\n",
      "CSNt2: csn_e + h_e --> csn_c + h_c (0.0, 1000.0)\n",
      "D_LACt2: h_e + lac__D_e <=> h_c + lac__D_c (-1000.0, 1000.0)\n",
      "EX_sprm_e: sprm_e -->  (0.0, 1000.0)\n",
      "HDCAt2: h_e + hdca_e --> h_c + hdca_c (0.0, 1000.0)\n",
      "HISabc: atp_c + h2o_c + his__L_e --> adp_c + h_c + his__L_c + pi_c (0.0, 1000.0)\n",
      "LDH_D: lac__D_c + nad_c <=> h_c + nadh_c + pyr_c (-1000.0, 1000.0)\n",
      "LYSTRS: atp_c + lys__L_c + trnalys_c --> amp_c + lystrna_c + ppi_c (0.0, 1000.0)\n",
      "NCAMUP: ncam_e --> ncam_c (0.0, 1000.0)\n",
      "NTD10: h2o_c + xmp_c --> pi_c + xtsn_c (0.0, 1000.0)\n",
      "NTD2: h2o_c + ump_c --> pi_c + uri_c (0.0, 1000.0)\n",
      "NTD3: dcmp_c + h2o_c --> dcyt_c + pi_c (0.0, 1000.0)\n",
      "NTD4: cmp_c + h2o_c --> cytd_c + pi_c (0.0, 1000.0)\n",
      "NTD5: dtmp_c + h2o_c --> pi_c + thymd_c (0.0, 1000.0)\n",
      "NTD7: amp_c + h2o_c --> adn_c + pi_c (0.0, 1000.0)\n",
      "NTD8: dgmp_c + h2o_c --> dgsn_c + pi_c (0.0, 1000.0)\n",
      "NTD9: gmp_c + h2o_c --> gsn_c + pi_c (0.0, 1000.0)\n",
      "O2t: o2_e --> o2_c (0.0, 1000.0)\n",
      "PHEt2r: h_e + phe__L_e <=> h_c + phe__L_c (-1000.0, 1000.0)\n",
      "TRPt2r: h_e + trp__L_e <=> h_c + trp__L_c (-1000.0, 1000.0)\n",
      "XYLK: atp_c + xylu__D_c --> adp_c + h_c + xu5p__D_c (0.0, 1000.0)\n",
      "XYLI1: xyl__D_c <=> xylu__D_c (-1000.0, 1000.0)\n"
     ]
    }
   ],
   "source": [
    "very_permissive_reactions = {} # change very permissive bounds\n",
    "for reaction in model.reactions: \n",
    "    if reaction.bounds in [(-999999, 999999), (0, 999999), (-999999, 0)]:\n",
    "        very_permissive_reactions[reaction.id] = reaction.bounds\n",
    "        reaction.bounds = (max(reaction.bounds[0], -1000.0), min(reaction.bounds[1], 1000.0))\n",
    "        print(reaction, reaction.bounds)"
   ]
  },
  {
   "cell_type": "code",
   "execution_count": 26,
   "id": "b8032eb1",
   "metadata": {},
   "outputs": [
    {
     "data": {
      "text/html": [
       "<strong><em>Optimal</em> solution with objective value 1.360</strong><br><div>\n",
       "<style scoped>\n",
       "    .dataframe tbody tr th:only-of-type {\n",
       "        vertical-align: middle;\n",
       "    }\n",
       "\n",
       "    .dataframe tbody tr th {\n",
       "        vertical-align: top;\n",
       "    }\n",
       "\n",
       "    .dataframe thead th {\n",
       "        text-align: right;\n",
       "    }\n",
       "</style>\n",
       "<table border=\"1\" class=\"dataframe\">\n",
       "  <thead>\n",
       "    <tr style=\"text-align: right;\">\n",
       "      <th></th>\n",
       "      <th>fluxes</th>\n",
       "      <th>reduced_costs</th>\n",
       "    </tr>\n",
       "  </thead>\n",
       "  <tbody>\n",
       "    <tr>\n",
       "      <th>10M3HDHL</th>\n",
       "      <td>0.004124</td>\n",
       "      <td>0.000000e+00</td>\n",
       "    </tr>\n",
       "    <tr>\n",
       "      <th>10M3OACPO</th>\n",
       "      <td>0.078684</td>\n",
       "      <td>0.000000e+00</td>\n",
       "    </tr>\n",
       "    <tr>\n",
       "      <th>10M3OUO</th>\n",
       "      <td>0.004124</td>\n",
       "      <td>0.000000e+00</td>\n",
       "    </tr>\n",
       "    <tr>\n",
       "      <th>10MDOD</th>\n",
       "      <td>0.078684</td>\n",
       "      <td>1.110223e-16</td>\n",
       "    </tr>\n",
       "    <tr>\n",
       "      <th>10MTDAO</th>\n",
       "      <td>0.078684</td>\n",
       "      <td>0.000000e+00</td>\n",
       "    </tr>\n",
       "    <tr>\n",
       "      <th>...</th>\n",
       "      <td>...</td>\n",
       "      <td>...</td>\n",
       "    </tr>\n",
       "    <tr>\n",
       "      <th>BIOMASS_OtherSOLUTES_reduced</th>\n",
       "      <td>0.000000</td>\n",
       "      <td>-2.439455e-19</td>\n",
       "    </tr>\n",
       "    <tr>\n",
       "      <th>BIOMASS_LIPIDS_reduced</th>\n",
       "      <td>0.000000</td>\n",
       "      <td>0.000000e+00</td>\n",
       "    </tr>\n",
       "    <tr>\n",
       "      <th>BIOMASS_iYS_reduced</th>\n",
       "      <td>0.000000</td>\n",
       "      <td>-1.398564e+00</td>\n",
       "    </tr>\n",
       "    <tr>\n",
       "      <th>GLUt3</th>\n",
       "      <td>0.000000</td>\n",
       "      <td>-6.309021e-03</td>\n",
       "    </tr>\n",
       "    <tr>\n",
       "      <th>ASPte</th>\n",
       "      <td>0.000000</td>\n",
       "      <td>-6.309021e-03</td>\n",
       "    </tr>\n",
       "  </tbody>\n",
       "</table>\n",
       "<p>1455 rows × 2 columns</p>\n",
       "</div>"
      ],
      "text/plain": [
       "<Solution 1.360 at 0x7f4b4ac7e730>"
      ]
     },
     "execution_count": 26,
     "metadata": {},
     "output_type": "execute_result"
    }
   ],
   "source": [
    "model.optimize() # no change in objective value"
   ]
  },
  {
   "cell_type": "code",
   "execution_count": 27,
   "id": "624d75f9",
   "metadata": {},
   "outputs": [
    {
     "name": "stdout",
     "output_type": "stream",
     "text": [
      "EX_h2o_e: h2o_e <=>  (-10.0, 1000.0)\n",
      "EX_h_e: h_e <=>  (-10.0, 1000.0)\n",
      "EX_k_e: k_e <=>  (-10.0, 1000.0)\n",
      "EX_ca2_e: ca2_e <=>  (-10.0, 1000.0)\n",
      "EX_cl_e: cl_e <=>  (-10.0, 1000.0)\n",
      "EX_co2_e: co2_e <=>  (-10.0, 1000.0)\n",
      "EX_cobalt2_e: cobalt2_e <=>  (-10.0, 1000.0)\n",
      "EX_cu2_e: cu2_e <=>  (-10.0, 1000.0)\n",
      "EX_cys__L_e: cys__L_e <=>  (-10.0, 1000.0)\n",
      "EX_mg2_e: mg2_e <=>  (-10.0, 1000.0)\n",
      "EX_mn2_e: mn2_e <=>  (-10.0, 1000.0)\n",
      "EX_mobd_e: mobd_e <=>  (-10.0, 1000.0)\n",
      "EX_na1_e: na1_e <=>  (-10.0, 1000.0)\n",
      "EX_fe2_e: fe2_e <=>  (-10.0, 1000.0)\n",
      "EX_fe3_e: fe3_e <=>  (-10.0, 1000.0)\n",
      "EX_nac_e: nac_e <=>  (-10.0, 1000.0)\n",
      "EX_nh4_e: nh4_e <=>  (-10.0, 1000.0)\n",
      "EX_ni2_e: ni2_e <=>  (-10.0, 1000.0)\n",
      "EX_o2_e: o2_e <=>  (-20.0, 1000.0)\n",
      "EX_for_e: for_e -->  (0.0, 0.0)\n",
      "EX_pi_e: pi_e <=>  (-10.0, 1000.0)\n",
      "EX_glc__D_e: glc__D_e <=>  (-10.0, 1000.0)\n",
      "EX_so4_e: so4_e <=>  (-10.0, 1000.0)\n",
      "EX_thm_e: thm_e <=>  (-10.0, 1000.0)\n",
      "EX_zn2_e: zn2_e <=>  (-10.0, 1000.0)\n",
      "BIOMASS_iYS_reduced: 1gDNA2_c + 1gLIPIDSr_c + 1gOtherSolutes_r_c + 1gPROTEIN2_c + 1gRNA2_c -->  (0.0, 0.0)\n"
     ]
    }
   ],
   "source": [
    "iYS_medium = [] # list of reactions to reset bounds from\n",
    "for reaction in model.reactions:\n",
    "    if reaction.bounds not in [(-1000, 1000), (0, 1000), (-1000, 0), (-999999, 999999), (0, 999999), (-999999, 0)]:\n",
    "        print(reaction, reaction.bounds)\n",
    "        iYS_medium.append(reaction)\n",
    "iYS_medium = iYS_medium[:-1] # exclude \"_reduced\" reaction\n",
    "iYS_medium = [reaction.id for reaction in iYS_medium] # get reaction ids for bounds resetting"
   ]
  },
  {
   "cell_type": "markdown",
   "id": "7d499348",
   "metadata": {},
   "source": [
    "## Reactions to be deleted from the model"
   ]
  },
  {
   "cell_type": "code",
   "execution_count": 28,
   "id": "6052932e",
   "metadata": {},
   "outputs": [
    {
     "data": {
      "text/plain": [
       "['BIOMASS_WT_lumped',\n",
       " 'BIOMASS_OtherSOLUTES_reduced',\n",
       " 'BIOMASS_LIPIDS_reduced',\n",
       " 'BIOMASS_iYS_reduced']"
      ]
     },
     "execution_count": 28,
     "metadata": {},
     "output_type": "execute_result"
    }
   ],
   "source": [
    "reduced = [reaction.id for reaction in model.reactions if 'reduced' in reaction.id or 'lumped' in reaction.id]\n",
    "reduced # get \"_reduced\" reactions id"
   ]
  },
  {
   "cell_type": "code",
   "execution_count": 29,
   "id": "d5203b66",
   "metadata": {},
   "outputs": [
    {
     "data": {
      "text/plain": [
       "['NPHS_copy2', 'PDTL_copy2', 'PDTS_copy2', 'S2FE2ST_copy2', 'S4FE4ST_copy2']"
      ]
     },
     "execution_count": 29,
     "metadata": {},
     "output_type": "execute_result"
    }
   ],
   "source": [
    "copy2 = [reaction.id for reaction in model.reactions if 'copy2' in reaction.id]\n",
    "copy2 # get \"_copy2\" reactions id"
   ]
  },
  {
   "cell_type": "code",
   "execution_count": 30,
   "id": "312b0134",
   "metadata": {},
   "outputs": [
    {
     "data": {
      "text/plain": [
       "['HPYRRx_1']"
      ]
     },
     "execution_count": 30,
     "metadata": {},
     "output_type": "execute_result"
    }
   ],
   "source": [
    "duplicated_1 = [reaction.id for reaction in model.reactions if '_1' in reaction.id and reaction.id[:-2] in model.reactions ]\n",
    "duplicated_1 # get reactions with duplicate \"R_X_1\" ids"
   ]
  },
  {
   "cell_type": "code",
   "execution_count": 31,
   "id": "5c8df443",
   "metadata": {},
   "outputs": [],
   "source": [
    "duplicates = copy2 + duplicated_1"
   ]
  },
  {
   "cell_type": "markdown",
   "id": "7dbd5c43",
   "metadata": {},
   "source": [
    "## We can use CbmPy to edit the SBML model"
   ]
  },
  {
   "cell_type": "code",
   "execution_count": 32,
   "id": "102419af",
   "metadata": {},
   "outputs": [
    {
     "name": "stdout",
     "output_type": "stream",
     "text": [
      "\n",
      "INFO: No xlwt module available, Excel spreadsheet creation disabled\n",
      "\n",
      "\n",
      "CBGLPK based on swiglpk: not all methods implimented yet!\n",
      "\n",
      "*****\n",
      "Using CPLEX\n",
      "*****\n",
      "\n",
      "\n",
      "\n",
      "***********************************************************************\n",
      "* Welcome to CBMPy (0.8.2) - PySCeS Constraint Based Modelling        *\n",
      "*                http://cbmpy.sourceforge.net                         *\n",
      "* Copyright(C) Brett G. Olivier 2014 - 2020                           *\n",
      "* Systems Biology Lab, Vrije Universiteit Amsterdam                   *\n",
      "* Amsterdam, The Netherlands                                          *\n",
      "* CBMPy is developed as part of the BeBasic MetaToolKit Project       *\n",
      "* Distributed under the GNU GPL v 3.0 licence, see                    *\n",
      "* LICENCE (supplied with this release) for details                    *\n",
      "***********************************************************************\n",
      "\n"
     ]
    }
   ],
   "source": [
    "import cbmpy"
   ]
  },
  {
   "cell_type": "code",
   "execution_count": 33,
   "id": "b6bedeac",
   "metadata": {},
   "outputs": [
    {
     "name": "stdout",
     "output_type": "stream",
     "text": [
      "FBC version: 2\n",
      "M.getNumReactions: 1455\n",
      "M.getNumSpecies: 1335\n",
      "FBC.getNumObjectives: 1\n",
      "FBC.getNumParameters: 1835\n",
      "FBC.getNumGeneProducts: 866\n",
      "Zero dimension compartment detected: c\n",
      "Zero dimension compartment detected: e\n",
      "Zero dimension compartment detected: w\n",
      "FluxBounds process1: 0.18\n",
      "INFO: Active objective: obj\n",
      "Adding objective: obj\n",
      "FluxBounds process2: 0.261\n",
      "\n",
      "SBML3 load time: 11.101\n",
      "\n"
     ]
    }
   ],
   "source": [
    "model_cbm = cbmpy.CBRead.readSBML3FBC('./iYS854.xml')"
   ]
  },
  {
   "cell_type": "code",
   "execution_count": 34,
   "id": "0b78efac",
   "metadata": {},
   "outputs": [],
   "source": [
    "add_rprefix = lambda x: 'R_' + x"
   ]
  },
  {
   "cell_type": "code",
   "execution_count": 35,
   "id": "f9fa3275",
   "metadata": {},
   "outputs": [
    {
     "name": "stdout",
     "output_type": "stream",
     "text": [
      "('R_23CN2P2', -1000.0, 1000.0, None)\n",
      "('R_23CN2P3', -1000.0, 1000.0, None)\n",
      "('R_23CN2P4', -1000.0, 1000.0, None)\n",
      "('R_3NUCLE2', -1000.0, 1000.0, None)\n",
      "('R_3NUCLE3', -1000.0, 1000.0, None)\n",
      "('R_3NUCLE4', -1000.0, 1000.0, None)\n",
      "('R_CO2t', -1000.0, 1000.0, None)\n",
      "('R_CSNt2', 0.0, 1000.0, None)\n",
      "('R_D_LACt2', -1000.0, 1000.0, None)\n",
      "('R_EX_sprm_e', 0.0, 1000.0, None)\n",
      "('R_HDCAt2', 0.0, 1000.0, None)\n",
      "('R_HISabc', 0.0, 1000.0, None)\n",
      "('R_LDH_D', -1000.0, 1000.0, None)\n",
      "('R_LYSTRS', 0.0, 1000.0, None)\n",
      "('R_NCAMUP', 0.0, 1000.0, None)\n",
      "('R_NTD10', 0.0, 1000.0, None)\n",
      "('R_NTD2', 0.0, 1000.0, None)\n",
      "('R_NTD3', 0.0, 1000.0, None)\n",
      "('R_NTD4', 0.0, 1000.0, None)\n",
      "('R_NTD5', 0.0, 1000.0, None)\n",
      "('R_NTD7', 0.0, 1000.0, None)\n",
      "('R_NTD8', 0.0, 1000.0, None)\n",
      "('R_NTD9', 0.0, 1000.0, None)\n",
      "('R_O2t', 0.0, 1000.0, None)\n",
      "('R_PHEt2r', -1000.0, 1000.0, None)\n",
      "('R_TRPt2r', -1000.0, 1000.0, None)\n",
      "('R_XYLK', 0.0, 1000.0, None)\n",
      "('R_XYLI1', -1000.0, 1000.0, None)\n"
     ]
    }
   ],
   "source": [
    "for reaction, bound in very_permissive_reactions.items():\n",
    "    model_cbm.setReactionBounds(add_rprefix(reaction), max(bound[0], -1000.0), min(bound[1], 1000.0))\n",
    "    print(model_cbm.getReactionBounds(add_rprefix(reaction)))"
   ]
  },
  {
   "cell_type": "markdown",
   "id": "48f5a066",
   "metadata": {},
   "source": [
    "Formate production should be allowed through the exchange reaction."
   ]
  },
  {
   "cell_type": "code",
   "execution_count": 36,
   "id": "af8a990b",
   "metadata": {},
   "outputs": [],
   "source": [
    "model_cbm.setReactionBounds('R_EX_for_e', 0.0, 1000.0)"
   ]
  },
  {
   "cell_type": "code",
   "execution_count": 37,
   "id": "0873873f",
   "metadata": {},
   "outputs": [
    {
     "name": "stdout",
     "output_type": "stream",
     "text": [
      "Deleting reaction R_BIOMASS_WT_lumped and 2 associated bounds\n",
      "Deleting reaction R_BIOMASS_OtherSOLUTES_reduced and 2 associated bounds\n",
      "Deleting reaction R_BIOMASS_LIPIDS_reduced and 2 associated bounds\n",
      "Deleting reaction R_BIOMASS_iYS_reduced and 2 associated bounds\n"
     ]
    }
   ],
   "source": [
    "for reaction in reduced:\n",
    "    model_cbm.deleteReactionAndBounds(add_rprefix(reaction))"
   ]
  },
  {
   "cell_type": "code",
   "execution_count": 38,
   "id": "bad7cb24",
   "metadata": {},
   "outputs": [
    {
     "name": "stdout",
     "output_type": "stream",
     "text": [
      "Deleting reaction R_NPHS_copy2 and 2 associated bounds\n",
      "Deleting reaction R_PDTL_copy2 and 2 associated bounds\n",
      "Deleting reaction R_PDTS_copy2 and 2 associated bounds\n",
      "Deleting reaction R_S2FE2ST_copy2 and 2 associated bounds\n",
      "Deleting reaction R_S4FE4ST_copy2 and 2 associated bounds\n",
      "Deleting reaction R_HPYRRx_1 and 2 associated bounds\n"
     ]
    }
   ],
   "source": [
    "for reaction in duplicates:\n",
    "    model_cbm.deleteReactionAndBounds(add_rprefix(reaction))"
   ]
  },
  {
   "cell_type": "code",
   "execution_count": 39,
   "id": "d806013d",
   "metadata": {},
   "outputs": [
    {
     "data": {
      "text/plain": [
       "-1000"
      ]
     },
     "execution_count": 39,
     "metadata": {},
     "output_type": "execute_result"
    }
   ],
   "source": [
    "model_cbm.getReaction('R_HPYRRx').setLowerBound(-1000)\n",
    "model_cbm.getReaction('R_HPYRRx').reversible = True\n",
    "model_cbm.getReaction('R_HPYRRx').getLowerBound()"
   ]
  },
  {
   "cell_type": "code",
   "execution_count": 40,
   "id": "69954dbb",
   "metadata": {},
   "outputs": [
    {
     "data": {
      "text/plain": [
       "-1000"
      ]
     },
     "execution_count": 40,
     "metadata": {},
     "output_type": "execute_result"
    }
   ],
   "source": [
    "model_cbm.getReaction('R_NPHS_copy1').setLowerBound(-1000)\n",
    "model_cbm.getReaction('R_NPHS_copy1').reversible = True\n",
    "model_cbm.getReaction('R_NPHS_copy1').getLowerBound()"
   ]
  },
  {
   "cell_type": "markdown",
   "id": "e14858f7",
   "metadata": {},
   "source": [
    "# Adaptation to the medium"
   ]
  },
  {
   "cell_type": "markdown",
   "id": "494b8fe3",
   "metadata": {},
   "source": [
    "All bounds, previously defined for the iYS minimal medium, are resetted to default."
   ]
  },
  {
   "cell_type": "code",
   "execution_count": 41,
   "id": "e94c3677",
   "metadata": {},
   "outputs": [
    {
     "name": "stdout",
     "output_type": "stream",
     "text": [
      "('R_EX_h2o_e', 0.0, 1000.0, None)\n",
      "('R_EX_h_e', 0.0, 1000.0, None)\n",
      "('R_EX_k_e', 0.0, 1000.0, None)\n",
      "('R_EX_ca2_e', 0.0, 1000.0, None)\n",
      "('R_EX_cl_e', 0.0, 1000.0, None)\n",
      "('R_EX_co2_e', 0.0, 1000.0, None)\n",
      "('R_EX_cobalt2_e', 0.0, 1000.0, None)\n",
      "('R_EX_cu2_e', 0.0, 1000.0, None)\n",
      "('R_EX_cys__L_e', 0.0, 1000.0, None)\n",
      "('R_EX_mg2_e', 0.0, 1000.0, None)\n",
      "('R_EX_mn2_e', 0.0, 1000.0, None)\n",
      "('R_EX_mobd_e', 0.0, 1000.0, None)\n",
      "('R_EX_na1_e', 0.0, 1000.0, None)\n",
      "('R_EX_fe2_e', 0.0, 1000.0, None)\n",
      "('R_EX_fe3_e', 0.0, 1000.0, None)\n",
      "('R_EX_nac_e', 0.0, 1000.0, None)\n",
      "('R_EX_nh4_e', 0.0, 1000.0, None)\n",
      "('R_EX_ni2_e', 0.0, 1000.0, None)\n",
      "('R_EX_o2_e', 0.0, 1000.0, None)\n",
      "('R_EX_for_e', 0.0, 1000.0, None)\n",
      "('R_EX_pi_e', 0.0, 1000.0, None)\n",
      "('R_EX_glc__D_e', 0.0, 1000.0, None)\n",
      "('R_EX_so4_e', 0.0, 1000.0, None)\n",
      "('R_EX_thm_e', 0.0, 1000.0, None)\n",
      "('R_EX_zn2_e', 0.0, 1000.0, None)\n"
     ]
    }
   ],
   "source": [
    "for reaction in iYS_medium:\n",
    "    model_cbm.setReactionBounds(add_rprefix(reaction), 0.0, 1000.0)\n",
    "    print(model_cbm.getReactionBounds(add_rprefix(reaction)))"
   ]
  },
  {
   "cell_type": "code",
   "execution_count": 42,
   "id": "cd2f76dc",
   "metadata": {},
   "outputs": [],
   "source": [
    "to_xreaction = lambda x: 'R_EX_' + x[2:-2] + '_e'"
   ]
  },
  {
   "cell_type": "code",
   "execution_count": 43,
   "id": "4534e005",
   "metadata": {},
   "outputs": [
    {
     "name": "stdout",
     "output_type": "stream",
     "text": [
      "No exchange reaction for M_ade_e - None\n",
      "No exchange reaction for M_cit_e - None\n",
      "No exchange reaction for M_pydam_e - None\n"
     ]
    }
   ],
   "source": [
    "for i, m, r in df.itertuples():\n",
    "    reac = model_cbm.getReaction(to_xreaction(m))\n",
    "    if not reac:\n",
    "        print('No exchange reaction for', m, '-', reac)"
   ]
  },
  {
   "cell_type": "markdown",
   "id": "aca82900",
   "metadata": {},
   "source": [
    "## Create exchange reactions for pyridoxamine and adenine"
   ]
  },
  {
   "cell_type": "markdown",
   "id": "b814d07e",
   "metadata": {},
   "source": [
    "**Note:** For the case of citrate, the iYS model cannot catabolize it through its existing transporter, it is a blocked reaction."
   ]
  },
  {
   "cell_type": "code",
   "execution_count": 44,
   "id": "6eb1c362",
   "metadata": {},
   "outputs": [],
   "source": [
    "from copy import deepcopy"
   ]
  },
  {
   "cell_type": "markdown",
   "id": "55359765",
   "metadata": {},
   "source": [
    "For adenine, we assume the transporter to be the same as for guanine, it would be serve as a purine transporter.\n",
    "There should be no reason to believe that such a transporter does not exist into *Staphylococcus aureus*, as the bacteria show clear reactions to the exogenous presence of adenine and guanine (Lefu Lan et al, 2010) (Alyssa King et al, 2018) (De Repentigny et al, 1966) (Reena Lamichhane-Khadka et al, 2021)."
   ]
  },
  {
   "cell_type": "code",
   "execution_count": 45,
   "id": "87c0daf4",
   "metadata": {},
   "outputs": [],
   "source": [
    "guanin_t = model_cbm.getReaction('R_GUAt2r')\n",
    "guanin_ex = model_cbm.getReaction('R_EX_gua_e')"
   ]
  },
  {
   "cell_type": "code",
   "execution_count": 46,
   "id": "7c413f0c",
   "metadata": {},
   "outputs": [],
   "source": [
    "adenin_t = deepcopy(guanin_t)\n",
    "adenin_ex = deepcopy(guanin_ex)"
   ]
  },
  {
   "cell_type": "code",
   "execution_count": 47,
   "id": "dd10c215",
   "metadata": {},
   "outputs": [],
   "source": [
    "guanin_c = model_cbm.getSpecies('M_gua_c')\n",
    "guanin_e = model_cbm.getSpecies('M_gua_e')\n",
    "adenin_c = model_cbm.getSpecies('M_ade_c')\n",
    "adenin_e = model_cbm.getSpecies('M_ade_e')"
   ]
  },
  {
   "cell_type": "code",
   "execution_count": 48,
   "id": "05b4a49a",
   "metadata": {},
   "outputs": [],
   "source": [
    "for reagent in adenin_t.reagents + adenin_ex.reagents:\n",
    "    if reagent.getSpecies() == guanin_c.id:\n",
    "        reagent.setSpecies(adenin_c.id)\n",
    "    if reagent.getSpecies() == guanin_e.id:\n",
    "        reagent.setSpecies(adenin_e.id) "
   ]
  },
  {
   "cell_type": "code",
   "execution_count": 49,
   "id": "0a1f751c",
   "metadata": {},
   "outputs": [],
   "source": [
    "adenin_t.setName('Adenin transport')\n",
    "adenin_t.changeId('R_ADEt2r')\n",
    "adenin_t.setId('R_ADEt2r')\n",
    "adenin_t.setMetaId('R_ADEt2r')\n",
    "adenin_ex.setName('Adenin exchange')\n",
    "adenin_ex.changeId('R_EX_ade_e')\n",
    "adenin_ex.setId('R_EX_ade_e')\n",
    "adenin_ex.setMetaId('R_EX_ade_e')"
   ]
  },
  {
   "cell_type": "code",
   "execution_count": 50,
   "id": "90470e1e",
   "metadata": {},
   "outputs": [],
   "source": [
    "model_cbm.addReaction(adenin_t)\n",
    "model_cbm.addReaction(adenin_ex)"
   ]
  },
  {
   "cell_type": "code",
   "execution_count": 51,
   "id": "c23408a8",
   "metadata": {},
   "outputs": [],
   "source": [
    "adenin_t.setLowerBound(0)\n",
    "adenin_ex.setLowerBound(0)"
   ]
  },
  {
   "cell_type": "markdown",
   "id": "54ef3d1e",
   "metadata": {},
   "source": [
    "Now for pyridoxamine and pyridoxal, there is no transport reaction for both of these compounds into the system. Yet, both of these compounds are used by kinases and contribute to the overall energy catabolism of the cell. So a modelling choice of ours could be to follow the hypothesis that transport systems for both of these B6-vitamin precursors exist in Staphylococcus aureus. \n",
    "\n",
    "Transport reactions for these vitamin compounds in particular are very little studied, but there are occasionally studies spanning a variety of bacteria (Mulligan and Snell, 1976) (Jaehme and Slotboom, 2014). However, as classification of transporters evolved through the years, something that seems to be widely believed is that these transporters would belong to the ATP-binding cassette (ABC) transporters family, specifically of the Energy-coupling factor type (ECF) (Erkens et al, 2012) (Wang et al, 2015).\n",
    "\n",
    "In conclusion, we choose to copy the thiamin ABC transporter, which is a better known ECF transporter, while of course removing the thiamin transporter gene products, as the not yet known enzymes that would catalyse those reactions might use completely different proteins."
   ]
  },
  {
   "cell_type": "code",
   "execution_count": 52,
   "id": "0a29ddc2",
   "metadata": {},
   "outputs": [],
   "source": [
    "thiamin_t = model_cbm.getReaction('R_THMabc')\n",
    "pydx_ex = model_cbm.getReaction('R_EX_pydx_e')"
   ]
  },
  {
   "cell_type": "code",
   "execution_count": 53,
   "id": "a0655bcb",
   "metadata": {},
   "outputs": [],
   "source": [
    "pydx_t = deepcopy(thiamin_t)\n",
    "pydam_t = deepcopy(thiamin_t)\n",
    "pydam_ex = deepcopy(pydx_ex)"
   ]
  },
  {
   "cell_type": "code",
   "execution_count": 54,
   "id": "16e229c8",
   "metadata": {},
   "outputs": [],
   "source": [
    "thm_c = model_cbm.getSpecies('M_thm_c')\n",
    "thm_e = model_cbm.getSpecies('M_thm_e')\n",
    "pydx_c = model_cbm.getSpecies('M_pydx_c')\n",
    "pydx_e = model_cbm.getSpecies('M_pydx_e')\n",
    "pydam_c = model_cbm.getSpecies('M_pydam_c')\n",
    "pydam_e = model_cbm.getSpecies('M_pydam_e')"
   ]
  },
  {
   "cell_type": "code",
   "execution_count": 55,
   "id": "a33bdb8c",
   "metadata": {},
   "outputs": [],
   "source": [
    "for reagent in pydam_ex.reagents + pydam_t.reagents:\n",
    "    if reagent.getSpecies() == thm_e.id:\n",
    "        reagent.setSpecies(pydam_e.id)\n",
    "    if reagent.getSpecies() == thm_c.id:\n",
    "        reagent.setSpecies(pydam_c.id)\n",
    "    if reagent.getSpecies() == pydx_e.id:\n",
    "        reagent.setSpecies(pydam_e.id) "
   ]
  },
  {
   "cell_type": "code",
   "execution_count": 56,
   "id": "099260e5",
   "metadata": {},
   "outputs": [],
   "source": [
    "for reagent in pydx_t.reagents:\n",
    "    if reagent.getSpecies() == thm_e.id:\n",
    "        reagent.setSpecies(pydx_e.id)\n",
    "    if reagent.getSpecies() == thm_c.id:\n",
    "        reagent.setSpecies(pydx_c.id)"
   ]
  },
  {
   "cell_type": "code",
   "execution_count": 57,
   "id": "0bca0fdb",
   "metadata": {},
   "outputs": [],
   "source": [
    "pydam_t.setName('Pyridoxamine transport')\n",
    "pydam_t.changeId('R_PYDAMabc')\n",
    "pydam_t.setId('R_PYDAMabc')\n",
    "pydam_t.setMetaId('R_PYDAMabc')\n",
    "pydx_t.setName('Pyridoxal transport')\n",
    "pydx_t.changeId('R_PYDXabc')\n",
    "pydx_t.setId('R_PYDXabc')\n",
    "pydx_t.setMetaId('R_PYDXabc')\n",
    "pydam_ex.setName('Pyridoxamine exchange')\n",
    "pydam_ex.changeId('R_EX_pydam_e')\n",
    "pydam_ex.setId('R_EX_pydam_e')\n",
    "pydam_ex.setMetaId('R_EX_pydam_e')"
   ]
  },
  {
   "cell_type": "code",
   "execution_count": 58,
   "id": "aa4b6080",
   "metadata": {},
   "outputs": [],
   "source": [
    "model_cbm.addReaction(pydx_t)\n",
    "model_cbm.addReaction(pydam_ex)\n",
    "model_cbm.addReaction(pydam_t)"
   ]
  },
  {
   "cell_type": "code",
   "execution_count": 59,
   "id": "2dab86b5",
   "metadata": {},
   "outputs": [],
   "source": [
    "pydx_t.setLowerBound(0)\n",
    "pydam_ex.setLowerBound(0)\n",
    "pydam_t.setLowerBound(0)"
   ]
  },
  {
   "cell_type": "code",
   "execution_count": 60,
   "id": "0e3b1d4b",
   "metadata": {},
   "outputs": [],
   "source": [
    "for r in model_cbm.reactions:\n",
    "    if r.getLowerBound() is None or r.getUpperBound() is None:\n",
    "        model_cbm.setReactionBounds(r.id, -1000, 1000)\n",
    "        r.reversible = True"
   ]
  },
  {
   "cell_type": "markdown",
   "id": "25cdd522",
   "metadata": {},
   "source": [
    "## Replacing cofactors zinc and molybdate in the biomass"
   ]
  },
  {
   "cell_type": "markdown",
   "id": "acb49c1d",
   "metadata": {},
   "source": [
    "In Seif et al, 2019, authors suggest complementing the Chemically Defined Medium (CDM) with zinc and molybdate so that it can produce biomass. In fact, this is because zinc and molybdate are present encoded as hard stoichiometry in the biomass reaction \"BIOMASS_OtherSOLUTES_wild_type\". \n",
    "\n",
    "Zinc and Molybdate are cofactors which are not necessarily essential for growth of *Staphylococcus aureus*, as reported by the Seif et al article itself, and which should be evidenced by the ability of S. aureus to grow on Chemically Defined Medium as according to Halsey et al, 2017.\n",
    "\n",
    "As such, we decide to replace the concentrations of Zinc and Molybdate in the biomass by other important cofactors of the bacterial cell present in the CDM. Namely, so that we can have a use to every metabolite added in the chemically defined medium, we replace the Zn2+ cation by the otherwise unused divalent cation, Ca2+. This is not an equivalent transferal, as Zinc is an important catalyst which has particular binding domains in many proteins, but we assume it should not have any major side effect.\n",
    "\n",
    "And we replace the negative Mo2- anion by a very different but still important catalyst, pyridoxal phosphate (a B6 vitamin), which can be synthesized from pyridoxamine and pyridoxal. There should be no consequences whatsoever on the rest of the model if the removal of molybdate doesn't reflect the biological reality as this concentration is around the 1e-6 order of magnitude."
   ]
  },
  {
   "cell_type": "code",
   "execution_count": 61,
   "id": "ca9b112b",
   "metadata": {},
   "outputs": [
    {
     "name": "stdout",
     "output_type": "stream",
     "text": [
      "(-0.000223) M_10fthf_c + (-2.5e-05) M_2fe2s_c + (-0.000248) M_4fe4s_c + (-0.000223) M_5mthf_c + (-2e-06) M_btn_c + (-0.000223) M_chor_c + (-0.004952) M_cl_c + (-0.006388) M_fe2_c + (-0.007428) M_fe3_c + (-0.000223) M_hemeO_c + (-0.18569) M_k_c + (-3e-06) M_lipopb_c + (-0.008253) M_mg2_c + (-0.000658) M_mn2_c + (-7e-06) M_mobd_c + (-1.9895) M_na1_c + (-0.012379) M_nh4_c + (-0.000223) M_pheme_c + (-0.03327) M_ptrc_c + (-0.000223) M_ribflv_c + (-0.004126) M_so4_c + (-0.000223) M_thm_c + (-0.000223) M_thmpp_c + (-0.000324) M_zn2_c > M_1gOtherSolutes2_c \n"
     ]
    }
   ],
   "source": [
    "r = model_cbm.getReaction('R_BIOMASS_OtherSOLUTES_wild_type')\n",
    "print(r.getEquation())"
   ]
  },
  {
   "cell_type": "code",
   "execution_count": 62,
   "id": "1b2e23f7",
   "metadata": {},
   "outputs": [
    {
     "data": {
      "text/plain": [
       "-2.255037"
      ]
     },
     "execution_count": 62,
     "metadata": {},
     "output_type": "execute_result"
    }
   ],
   "source": [
    "reactants_stoch_sum = sum([s[0] for s in r.getStoichiometry()]) - 1.0\n",
    "reactants_stoch_sum"
   ]
  },
  {
   "cell_type": "code",
   "execution_count": 63,
   "id": "6b1282c8",
   "metadata": {},
   "outputs": [],
   "source": [
    "coefficient_zn2 = -0.000324\n",
    "coefficient_mobd = -7e-06"
   ]
  },
  {
   "cell_type": "code",
   "execution_count": 64,
   "id": "4a0c664f",
   "metadata": {},
   "outputs": [],
   "source": [
    "r.createReagent(\"M_ca2_c\", coefficient_zn2)\n",
    "r.createReagent(\"M_pydx5p_c\", coefficient_mobd)"
   ]
  },
  {
   "cell_type": "code",
   "execution_count": 65,
   "id": "f17b832a",
   "metadata": {},
   "outputs": [
    {
     "name": "stdout",
     "output_type": "stream",
     "text": [
      "Deleting reagent: R_BIOMASS_OtherSOLUTES_wild_type_M_zn2_c\n",
      "Deleting reagent: R_BIOMASS_OtherSOLUTES_wild_type_M_mobd_c\n"
     ]
    }
   ],
   "source": [
    "r.deleteReagentWithSpeciesRef(\"M_zn2_c\")\n",
    "r.deleteReagentWithSpeciesRef(\"M_mobd_c\")"
   ]
  },
  {
   "cell_type": "code",
   "execution_count": 66,
   "id": "00a7c560",
   "metadata": {
    "scrolled": true
   },
   "outputs": [
    {
     "name": "stdout",
     "output_type": "stream",
     "text": [
      "(-0.000223) M_10fthf_c + (-2.5e-05) M_2fe2s_c + (-0.000248) M_4fe4s_c + (-0.000223) M_5mthf_c + (-2e-06) M_btn_c + (-0.000223) M_chor_c + (-0.004952) M_cl_c + (-0.006388) M_fe2_c + (-0.007428) M_fe3_c + (-0.000223) M_hemeO_c + (-0.18569) M_k_c + (-3e-06) M_lipopb_c + (-0.008253) M_mg2_c + (-0.000658) M_mn2_c + (-1.9895) M_na1_c + (-0.012379) M_nh4_c + (-0.000223) M_pheme_c + (-0.03327) M_ptrc_c + (-0.000223) M_ribflv_c + (-0.004126) M_so4_c + (-0.000223) M_thm_c + (-0.000223) M_thmpp_c + (-0.000324) M_ca2_c + (-7e-06) M_pydx5p_c > M_1gOtherSolutes2_c \n"
     ]
    }
   ],
   "source": [
    "print(r.getEquation())"
   ]
  },
  {
   "cell_type": "markdown",
   "id": "e2e38d7f",
   "metadata": {},
   "source": [
    "## Accounting for the production of oxygen-binding catalyzer heme A"
   ]
  },
  {
   "cell_type": "markdown",
   "id": "eaf2445a",
   "metadata": {},
   "source": [
    "We corrected the presence of non-essential cofactors Zinc and Molybdate in the biomass and replaced them by compounds actually present in the Chemically Defined Medium.\n",
    "However, there is another issue in the biomass of this model according to Poudel et al, 2020 (Metabolic Modeling paragraph). \n",
    "\n",
    "The biomass doesn't account for the production of heme A (CHEBI:24479), while this metabolite is used for cytochrome oxidase (CYTBD), an important reaction that is accounted for in the biomass by the presence of lipid mqn7_c.\n",
    "Heme A is produced from Heme O, which is itself produced from Heme B or protoheme.\n",
    "\n",
    "Another concern is the relative presence of pyridoxal-5-phosphate compared to other factors (~ 1e-6 mmol.gDW-1). This cofactor has in fact a lot more prevalence in *S. aureus* than some others mentioned in the biomass including Heme, as can be evidenced by downloading the Uniprot genome of *S. aureus* and looking for cofactors. We found 41 enzymes using PLP as a catalyzer while Heme compounds only help with catalyzing for 7 enzymes.\n",
    "\n",
    "As such, we choose to reduce the presence of Heme in the biomass in favor of pyridoxal-phosphate. As was done before, the idea is to switch metabolites or metabolite coefficients. This is because coefficients may go to steps of normalization (i.e. dividing by 1g of dry weight, dividing by the fraction of cofactors in a *S. aureus* bacterial cell) which we assume has been done here. So even though we change experimentally determined values, we want to do so without changing the total sum of the coefficients.\n",
    "\n",
    "We would like pyridoxal phosphate to get a stoichiometric coefficient equal to those of heme O or protoheme.\n",
    "Exploring through the 7 enzymes found in the Uniprot genome file, 1 of them, a quinol oxidase subunit (ie. CYTBD), requires ferriheme, made from heme A, 2 of them require Protoheme or heme B, and the remaining 4 can require any kind of heme.\n",
    "In light of this, we choose to assign the stoichiometric coefficient of molybdate to protoheme, and the stoichiometric coefficient of heme O to heme A, seeing how heme A requires further synthesis from heme O which otherwise goes unused. As a result, heme O will no longer be part of the biomass."
   ]
  },
  {
   "cell_type": "code",
   "execution_count": 67,
   "id": "765b069d",
   "metadata": {},
   "outputs": [],
   "source": [
    "coefficient_mobd = -7e-06\n",
    "coefficient_heme = -0.000223"
   ]
  },
  {
   "cell_type": "code",
   "execution_count": 68,
   "id": "0e4cf828",
   "metadata": {},
   "outputs": [
    {
     "name": "stdout",
     "output_type": "stream",
     "text": [
      "Deleting reagent: R_BIOMASS_OtherSOLUTES_wild_type_M_pheme_c\n",
      "Deleting reagent: R_BIOMASS_OtherSOLUTES_wild_type_M_hemeO_c\n",
      "Deleting reagent: R_BIOMASS_OtherSOLUTES_wild_type_M_pydx5p_c\n"
     ]
    }
   ],
   "source": [
    "r.deleteReagentWithSpeciesRef(\"M_pheme_c\")\n",
    "r.deleteReagentWithSpeciesRef(\"M_hemeO_c\")\n",
    "r.deleteReagentWithSpeciesRef(\"M_pydx5p_c\")"
   ]
  },
  {
   "cell_type": "code",
   "execution_count": 69,
   "id": "22557588",
   "metadata": {},
   "outputs": [],
   "source": [
    "r.createReagent(\"M_pheme_c\", coefficient_mobd)\n",
    "r.createReagent(\"M_hemeA_c\", coefficient_heme)\n",
    "r.createReagent(\"M_pydx5p_c\", coefficient_heme)"
   ]
  },
  {
   "cell_type": "code",
   "execution_count": 70,
   "id": "80b9de53",
   "metadata": {},
   "outputs": [
    {
     "name": "stdout",
     "output_type": "stream",
     "text": [
      "(-0.000223) M_10fthf_c + (-2.5e-05) M_2fe2s_c + (-0.000248) M_4fe4s_c + (-0.000223) M_5mthf_c + (-2e-06) M_btn_c + (-0.000223) M_chor_c + (-0.004952) M_cl_c + (-0.006388) M_fe2_c + (-0.007428) M_fe3_c + (-0.18569) M_k_c + (-3e-06) M_lipopb_c + (-0.008253) M_mg2_c + (-0.000658) M_mn2_c + (-1.9895) M_na1_c + (-0.012379) M_nh4_c + (-0.03327) M_ptrc_c + (-0.000223) M_ribflv_c + (-0.004126) M_so4_c + (-0.000223) M_thm_c + (-0.000223) M_thmpp_c + (-0.000324) M_ca2_c + (-7e-06) M_pheme_c + (-0.000223) M_hemeA_c + (-0.000223) M_pydx5p_c > M_1gOtherSolutes2_c \n"
     ]
    }
   ],
   "source": [
    "print(r.getEquation())"
   ]
  },
  {
   "cell_type": "code",
   "execution_count": 71,
   "id": "b089ba45",
   "metadata": {},
   "outputs": [
    {
     "data": {
      "text/plain": [
       "-2.2550370000000006"
      ]
     },
     "execution_count": 71,
     "metadata": {},
     "output_type": "execute_result"
    }
   ],
   "source": [
    "reactants_stoch_sum_now = sum([s[0] for s in r.getStoichiometry()]) - 1.0\n",
    "reactants_stoch_sum_now"
   ]
  },
  {
   "cell_type": "markdown",
   "id": "c8410649",
   "metadata": {},
   "source": [
    "## Reset M1DPH bounds to fit with experimental results from Ferreira et al, 2013\n"
   ]
  },
  {
   "cell_type": "markdown",
   "id": "29abeea7",
   "metadata": {},
   "source": [
    "The experimental measurements from Ferreira et al, 2013 showed extracellular secretion of mannitol through the semi-anaerobic phase of S. aureus growth. As far as we are aware, this is the only paper we found describing such use of the mannitol transporter while no mannitol was present in the growth medium.\n",
    "\n",
    "However, mannitol and mannitol-P production and accumulation in Staphylococcus aureus during aerobiosis has been known since 1980s (Edwards et al, 1981; Ezra et al, 1983), and intracellular measurements as well as transcriptomic/proteomic differential analysis (ex. Choueiry et al, 2022) confirm the expression of enzymes related to mannitol production when in aerobiosis. Indeed, this supposedly stops occuring when in anoxia.\n",
    "\n",
    "Mannitol production, as far as we know, could only be done through the reverse directionality of the Mannitol-1-phosphate dehydrogenase which role is to hydrolyze Mannitol into Fructose-6-Phosphate. It is theorized that Staphylococcus uses that enzyme to perform the reverse reaction for energy considerations (NAD/NADH redox), and supposedly it manages better the accumulation of Mannitol than Fructose-6-Phosphate. \n",
    "\n",
    "On the iYS854 model, the M1PDH reaction is irreversible by default, while on the N315 Staphylococcus aureus model, it was considered reversible. Considering the information above, we think it is fair to allow the reversibility to this reaction, even though it means the exchange fluxes will definitely be able to secrete mannitol."
   ]
  },
  {
   "cell_type": "code",
   "execution_count": 72,
   "id": "eee5b0a1",
   "metadata": {},
   "outputs": [],
   "source": [
    "r = model_cbm.getReaction('R_M1PD')\n",
    "r.setLowerBound(-1000)\n",
    "r.reversible = True"
   ]
  },
  {
   "cell_type": "markdown",
   "id": "01f541a4",
   "metadata": {},
   "source": [
    "## Make the biomass cell wall requirements account for *ΔtarO* mutant strains"
   ]
  },
  {
   "cell_type": "markdown",
   "id": "06733f78",
   "metadata": {},
   "source": [
    "From Seif et al, 2019: Following the observed results of the False Negative gene knockouts analysis.\n",
    "\n",
    "\"Both wall teichoic acids and lipoteichoic acids are conditionally dispensable for viability of S. aureus strains.\n",
    "Since we initially included these two components in the biomass objective function, their complete biosynthesis was rendered essential for successful growth in silico. Thus, in addition to\n",
    "the measured intracellular pool of solutes, we also propose that the inclusion of WTA and LTA\n",
    "in the biomass objective function is conditional. As such, we adjusted the generalized biomass\n",
    "objective function (‘BIOMASS_iYS_reduced’) to exclude these two precursors.\"\n",
    "\n",
    "In other words, the wild type of *Staphylococcus aureus* would exhibit these two WTA and LTA biomass precursors. But knocking-out reactions leading to these precursors would not necessary lead to a lethal phenotype, hence their exclusion in the \"reduced\" Biomass. In particular, we modify the model so that it takes into account WTA-null mutants, including *ΔtarO* which is well-studied in the literature (Pasquina et al, 2013)."
   ]
  },
  {
   "cell_type": "code",
   "execution_count": 73,
   "id": "67709f2d",
   "metadata": {},
   "outputs": [
    {
     "data": {
      "text/html": [
       "\n",
       "        <table>\n",
       "            <tr>\n",
       "                <td><strong>Name</strong></td>\n",
       "                <td>iYS854</td>\n",
       "            </tr><tr>\n",
       "                <td><strong>Memory address</strong></td>\n",
       "                <td>0x07f4b4bb47700</td>\n",
       "            </tr><tr>\n",
       "                <td><strong>Number of metabolites</strong></td>\n",
       "                <td>1335</td>\n",
       "            </tr><tr>\n",
       "                <td><strong>Number of reactions</strong></td>\n",
       "                <td>1455</td>\n",
       "            </tr><tr>\n",
       "                <td><strong>Number of groups</strong></td>\n",
       "                <td>0</td>\n",
       "            </tr><tr>\n",
       "                <td><strong>Objective expression</strong></td>\n",
       "                <td>1.0*BIOMASS_iYS_wild_type - 1.0*BIOMASS_iYS_wild_type_reverse_4a71b</td>\n",
       "            </tr><tr>\n",
       "                <td><strong>Compartments</strong></td>\n",
       "                <td>cytosol, extracellular space, wildtype staph aureus</td>\n",
       "            </tr>\n",
       "          </table>"
      ],
      "text/plain": [
       "<Model iYS854 at 0x7f4b4bb47700>"
      ]
     },
     "execution_count": 73,
     "metadata": {},
     "output_type": "execute_result"
    }
   ],
   "source": [
    "model # original model without transformations"
   ]
  },
  {
   "cell_type": "code",
   "execution_count": 74,
   "id": "6cedc39c",
   "metadata": {},
   "outputs": [
    {
     "name": "stdout",
     "output_type": "stream",
     "text": [
      "BIOMASS_LIPIDS_wild_type: 0.00262322198280426 3g12dgr_MRSA_c + 0.00114134054982119 LTA_MRSA_w + 0.00286984353246381 clpn_MRSA_c + 0.0109370901007626 dag_MRSA_c + 0.00493631043718319 mqn7_c + 0.0212090493892501 pg_MRSA_c + 0.00236326444528039 pglys_MRSA_c --> 1gLIPIDS2_c\n"
     ]
    }
   ],
   "source": [
    "print(model.reactions.get_by_id('BIOMASS_LIPIDS_wild_type'))"
   ]
  },
  {
   "cell_type": "code",
   "execution_count": 75,
   "id": "60e9ab5f",
   "metadata": {},
   "outputs": [
    {
     "name": "stdout",
     "output_type": "stream",
     "text": [
      "BIOMASS_LIPIDS_reduced: 0.0026232219828 3g12dgr_MRSA_c + 0.0109370901008 dag_MRSA_c + 0.0212090493893 pg_MRSA_c + 0.00236326444528 pglys_MRSA_c --> 1gLIPIDSr_c\n"
     ]
    }
   ],
   "source": [
    "print(model.reactions.get_by_id('BIOMASS_LIPIDS_reduced'))"
   ]
  },
  {
   "cell_type": "code",
   "execution_count": 76,
   "id": "af303ea0",
   "metadata": {},
   "outputs": [
    {
     "name": "stdout",
     "output_type": "stream",
     "text": [
      "\n",
      "Reaction \"R_LTAs\" bounds set to: 0 <= R_LTAs <= INF\n",
      "Add reagents with cmod.createReactionReagent(R_LTAs, metabolite, coefficient)\n",
      "\n",
      "Reaction \"R_WTAs\" bounds set to: 0 <= R_WTAs <= INF\n",
      "Add reagents with cmod.createReactionReagent(R_WTAs, metabolite, coefficient)\n"
     ]
    }
   ],
   "source": [
    "model_cbm.createReaction('R_LTAs', 'LTA synthase', False)\n",
    "model_cbm.createReaction('R_WTAs', 'WTA synthase', False)"
   ]
  },
  {
   "cell_type": "code",
   "execution_count": 77,
   "id": "c63c18ff",
   "metadata": {},
   "outputs": [],
   "source": [
    "LTAs = model_cbm.getReaction('R_LTAs')\n",
    "WTAs = model_cbm.getReaction('R_WTAs')"
   ]
  },
  {
   "cell_type": "code",
   "execution_count": 78,
   "id": "2167a985",
   "metadata": {},
   "outputs": [],
   "source": [
    "model_cbm.createSpecies('M_LTA_wt_w', compartment='w')\n",
    "model_cbm.createSpecies('M_WTA_wt_w', compartment='w')\n",
    "model_cbm.createSpecies('M_TA_wt_w', compartment='w')"
   ]
  },
  {
   "cell_type": "code",
   "execution_count": 79,
   "id": "e065a9fe",
   "metadata": {},
   "outputs": [],
   "source": [
    "lta = model_cbm.getSpecies('M_LTA_wt_w')\n",
    "wta = model_cbm.getSpecies('M_WTA_wt_w')\n",
    "ta = model_cbm.getSpecies('M_TA_wt_w')"
   ]
  },
  {
   "cell_type": "code",
   "execution_count": 80,
   "id": "a892c013",
   "metadata": {},
   "outputs": [
    {
     "data": {
      "text/plain": [
       "'(-0.00262322198280426) M_3g12dgr_MRSA_c + (-0.00114134054982119) M_LTA_MRSA_w + (-0.00286984353246381) M_clpn_MRSA_c + (-0.0109370901007626) M_dag_MRSA_c + (-0.00493631043718319) M_mqn7_c + (-0.0212090493892501) M_pg_MRSA_c + (-0.00236326444528039) M_pglys_MRSA_c > M_1gLIPIDS2_c '"
      ]
     },
     "execution_count": 80,
     "metadata": {},
     "output_type": "execute_result"
    }
   ],
   "source": [
    "r = model_cbm.getReaction('R_BIOMASS_LIPIDS_wild_type')\n",
    "r.getEquation()"
   ]
  },
  {
   "cell_type": "code",
   "execution_count": 81,
   "id": "8e9b06e4",
   "metadata": {},
   "outputs": [
    {
     "name": "stdout",
     "output_type": "stream",
     "text": [
      "Adding reagent: M_mqn7_c with coefficient -0.00493631043718319\n",
      "Deleting reagent: R_BIOMASS_LIPIDS_wild_type_M_mqn7_c\n",
      "Adding reagent: M_clpn_MRSA_c with coefficient -0.00286984353246381\n",
      "Deleting reagent: R_BIOMASS_LIPIDS_wild_type_M_clpn_MRSA_c\n",
      "Adding reagent: M_LTA_MRSA_w with coefficient -0.00114134054982119\n",
      "Deleting reagent: R_BIOMASS_LIPIDS_wild_type_M_LTA_MRSA_w\n"
     ]
    }
   ],
   "source": [
    "rbiom = model_cbm.getReaction('R_BIOMASS_LIPIDS_wild_type')\n",
    "LTAs = model_cbm.getReaction('R_LTAs')\n",
    "for s in [\"M_mqn7_c\", \"M_clpn_MRSA_c\", \"M_LTA_MRSA_w\"]:\n",
    "    for i, rg in enumerate(rbiom.reagents):\n",
    "        if rg.getSpecies() == s:\n",
    "            LTAs.createReagent(rg.getSpecies(), rg.getCoefficient())\n",
    "            print('Adding reagent: {} with coefficient {}'.format(rg.getSpecies(), rg.getCoefficient()))\n",
    "            rbiom.reagents.pop(i)\n",
    "            print('Deleting reagent: {}'.format(rg.getId()))\n",
    "        del rg"
   ]
  },
  {
   "cell_type": "code",
   "execution_count": 82,
   "id": "f64351c0",
   "metadata": {},
   "outputs": [
    {
     "data": {
      "text/plain": [
       "'(-0.00262322198280426) M_3g12dgr_MRSA_c + (-0.0109370901007626) M_dag_MRSA_c + (-0.0212090493892501) M_pg_MRSA_c + (-0.00236326444528039) M_pglys_MRSA_c > M_1gLIPIDS2_c '"
      ]
     },
     "execution_count": 82,
     "metadata": {},
     "output_type": "execute_result"
    }
   ],
   "source": [
    "r = model_cbm.getReaction('R_BIOMASS_LIPIDS_wild_type')\n",
    "r.getEquation()"
   ]
  },
  {
   "cell_type": "code",
   "execution_count": 83,
   "id": "5462b6a9",
   "metadata": {},
   "outputs": [],
   "source": [
    "LTAs.createReagent(lta.id, 1)"
   ]
  },
  {
   "cell_type": "code",
   "execution_count": 84,
   "id": "fc82794e",
   "metadata": {},
   "outputs": [
    {
     "data": {
      "text/plain": [
       "'(-0.00493631043718319) M_mqn7_c + (-0.00286984353246381) M_clpn_MRSA_c + (-0.00114134054982119) M_LTA_MRSA_w > M_LTA_wt_w '"
      ]
     },
     "execution_count": 84,
     "metadata": {},
     "output_type": "execute_result"
    }
   ],
   "source": [
    "LTAs.getEquation()"
   ]
  },
  {
   "cell_type": "code",
   "execution_count": 85,
   "id": "77c4b59d",
   "metadata": {},
   "outputs": [
    {
     "data": {
      "text/plain": [
       "'(-0.00874624310832839) M_WTA40rPG_w + (-0.00831380373939899) M_WTA40raPG_w + (-0.00762327685818712) M_WTA40rgPG_w > M_1gCELLWALL2_c '"
      ]
     },
     "execution_count": 85,
     "metadata": {},
     "output_type": "execute_result"
    }
   ],
   "source": [
    "r = model_cbm.getReaction('R_BIOMASS_CELLWALL')\n",
    "r.getEquation()"
   ]
  },
  {
   "cell_type": "code",
   "execution_count": 86,
   "id": "daaf5f15",
   "metadata": {},
   "outputs": [
    {
     "name": "stdout",
     "output_type": "stream",
     "text": [
      "Adding reagent: M_WTA40rPG_w with coefficient -0.00874624310832839\n",
      "Deleting reagent: R_BIOMASS_CELLWALL_M_WTA40rPG_w\n",
      "Adding reagent: M_WTA40raPG_w with coefficient -0.00831380373939899\n",
      "Deleting reagent: R_BIOMASS_CELLWALL_M_WTA40raPG_w\n",
      "Adding reagent: M_WTA40rgPG_w with coefficient -0.00762327685818712\n",
      "Deleting reagent: R_BIOMASS_CELLWALL_M_WTA40rgPG_w\n"
     ]
    }
   ],
   "source": [
    "rbiom = model_cbm.getReaction('R_BIOMASS_CELLWALL')\n",
    "WTAs = model_cbm.getReaction('R_WTAs')\n",
    "for s in [\"M_WTA40rPG_w\", \"M_WTA40raPG_w\", \"M_WTA40rgPG_w\"]:\n",
    "    for i, rg in enumerate(rbiom.reagents):\n",
    "        if rg.getSpecies() == s:\n",
    "            WTAs.createReagent(rg.getSpecies(), rg.getCoefficient())\n",
    "            print('Adding reagent: {} with coefficient {}'.format(rg.getSpecies(), rg.getCoefficient()))\n",
    "            rbiom.reagents.pop(i)\n",
    "            print('Deleting reagent: {}'.format(rg.getId()))\n",
    "        del rg"
   ]
  },
  {
   "cell_type": "code",
   "execution_count": 87,
   "id": "eb138c44",
   "metadata": {},
   "outputs": [],
   "source": [
    "rbiom.createReagent(ta.id, -1)"
   ]
  },
  {
   "cell_type": "code",
   "execution_count": 88,
   "id": "bbd87ff4",
   "metadata": {},
   "outputs": [
    {
     "data": {
      "text/plain": [
       "'M_TA_wt_w > M_1gCELLWALL2_c '"
      ]
     },
     "execution_count": 88,
     "metadata": {},
     "output_type": "execute_result"
    }
   ],
   "source": [
    "rbiom = model_cbm.getReaction('R_BIOMASS_CELLWALL')\n",
    "rbiom.getEquation()"
   ]
  },
  {
   "cell_type": "code",
   "execution_count": 89,
   "id": "f015c393",
   "metadata": {},
   "outputs": [],
   "source": [
    "WTAs.createReagent(wta.id, 1)"
   ]
  },
  {
   "cell_type": "code",
   "execution_count": 90,
   "id": "0959c4c7",
   "metadata": {},
   "outputs": [
    {
     "data": {
      "text/plain": [
       "'(-0.00874624310832839) M_WTA40rPG_w + (-0.00831380373939899) M_WTA40raPG_w + (-0.00762327685818712) M_WTA40rgPG_w > M_WTA_wt_w '"
      ]
     },
     "execution_count": 90,
     "metadata": {},
     "output_type": "execute_result"
    }
   ],
   "source": [
    "WTAs.getEquation()"
   ]
  },
  {
   "cell_type": "code",
   "execution_count": 91,
   "id": "e3d66f89",
   "metadata": {},
   "outputs": [
    {
     "name": "stdout",
     "output_type": "stream",
     "text": [
      "\n",
      "Reaction \"R_LTAdtarO\" bounds set to: 0 <= R_LTAdtarO <= INF\n",
      "Add reagents with cmod.createReactionReagent(R_LTAdtarO, metabolite, coefficient)\n",
      "\n",
      "Reaction \"R_LTAWTA\" bounds set to: 0 <= R_LTAWTA <= INF\n",
      "Add reagents with cmod.createReactionReagent(R_LTAWTA, metabolite, coefficient)\n"
     ]
    }
   ],
   "source": [
    "model_cbm.createReaction('R_LTAdtarO', 'R_LTAdtarO', False)\n",
    "model_cbm.createReaction('R_LTAWTA', 'R_LTAWTA', False)"
   ]
  },
  {
   "cell_type": "code",
   "execution_count": 92,
   "id": "71cb78c4",
   "metadata": {},
   "outputs": [],
   "source": [
    "LTAdtarO = model_cbm.getReaction('R_LTAdtarO')\n",
    "LTAWTA = model_cbm.getReaction('R_LTAWTA')"
   ]
  },
  {
   "cell_type": "code",
   "execution_count": 93,
   "id": "a777f7d5",
   "metadata": {},
   "outputs": [],
   "source": [
    "LTAdtarO.createReagent(lta.id, -1)\n",
    "LTAdtarO.createReagent(ta.id, 0.1)\n",
    "LTAWTA.createReagent(lta.id, -1)\n",
    "LTAWTA.createReagent(wta.id, -1)\n",
    "LTAWTA.createReagent(ta.id, 1)"
   ]
  },
  {
   "cell_type": "code",
   "execution_count": 94,
   "id": "69f4e707",
   "metadata": {},
   "outputs": [
    {
     "data": {
      "text/plain": [
       "'M_LTA_wt_w > (0.1) M_TA_wt_w '"
      ]
     },
     "execution_count": 94,
     "metadata": {},
     "output_type": "execute_result"
    }
   ],
   "source": [
    "LTAdtarO.getEquation()"
   ]
  },
  {
   "cell_type": "code",
   "execution_count": 95,
   "id": "97fec673",
   "metadata": {},
   "outputs": [
    {
     "data": {
      "text/plain": [
       "'M_LTA_wt_w + M_WTA_wt_w > M_TA_wt_w '"
      ]
     },
     "execution_count": 95,
     "metadata": {},
     "output_type": "execute_result"
    }
   ],
   "source": [
    "LTAWTA.getEquation()"
   ]
  },
  {
   "cell_type": "code",
   "execution_count": 96,
   "id": "ebb5f579",
   "metadata": {},
   "outputs": [
    {
     "name": "stdout",
     "output_type": "stream",
     "text": [
      "(<cbmpy.CBModel.Reaction object at 0x7f4b4c0679d0>, None, None, None)\n",
      "(<cbmpy.CBModel.Reaction object at 0x7f4b4c067520>, None, None, None)\n",
      "(<cbmpy.CBModel.Reaction object at 0x7f4b4a6a2460>, None, None, None)\n",
      "(<cbmpy.CBModel.Reaction object at 0x7f4b4a6a7a30>, None, None, None)\n"
     ]
    }
   ],
   "source": [
    "# replace exchanges reactions for all medium metabolites by default cobra exchanges (value*10)\n",
    "for r in [LTAdtarO, LTAWTA, WTAs, LTAs]:\n",
    "    model_cbm.setReactionBounds(r.id, 0, 1000.0)\n",
    "    model_cbm.getReaction(r.id).reversible = False\n",
    "    print(model_cbm.getReactionBounds(r))"
   ]
  },
  {
   "cell_type": "code",
   "execution_count": 97,
   "id": "13e97fa3",
   "metadata": {},
   "outputs": [
    {
     "name": "stdout",
     "output_type": "stream",
     "text": [
      "Tested model for reversibility errors.\n"
     ]
    }
   ],
   "source": [
    "cbmpy.CBTools.fixReversibility(model_cbm)\n",
    "print('Tested model for reversibility errors.')"
   ]
  },
  {
   "cell_type": "markdown",
   "id": "d9783275",
   "metadata": {},
   "source": [
    "## Creating the SBML model with new biomass and flux bounds according to medium\n",
    "For a first testing phase of the exchange reaction bounds with cobrapy:"
   ]
  },
  {
   "cell_type": "code",
   "execution_count": 98,
   "id": "65659117",
   "metadata": {},
   "outputs": [
    {
     "name": "stdout",
     "output_type": "stream",
     "text": [
      "Tested model for reversibility errors.\n"
     ]
    }
   ],
   "source": [
    "cbmpy.CBTools.fixReversibility(model_cbm)\n",
    "print('Tested model for reversibility errors.')"
   ]
  },
  {
   "cell_type": "code",
   "execution_count": 99,
   "id": "159f9224",
   "metadata": {},
   "outputs": [
    {
     "name": "stdout",
     "output_type": "stream",
     "text": [
      "getState1\n",
      "('R_EX_glc__D_e', -10.0, 1000.0, None)\n",
      "('R_EX_lac__D_e', -10.0, 1000.0, None)\n",
      "('R_EX_h_e', -10.0, 1000.0, None)\n",
      "('R_EX_nh4_e', -10.0, 1000.0, None)\n",
      "('R_EX_h2o_e', -10.0, 1000.0, None)\n",
      "('R_EX_co2_e', -10.0, 1000.0, None)\n",
      "('R_EX_pi_e', -10.0, 1000.0, None)\n",
      "('R_EX_o2_e', -20.0, 1000.0, None)\n",
      "('R_EX_k_e', -10.0, 1000.0, None)\n",
      "('R_EX_na1_e', -10.0, 1000.0, None)\n",
      "('R_EX_ade_e', -1.5, 1000.0, None)\n",
      "('R_EX_gua_e', -1.5, 1000.0, None)\n",
      "('R_EX_csn_e', -1.5, 1000.0, None)\n",
      "('R_EX_ura_e', -1.5, 1000.0, None)\n",
      "('R_EX_gln__L_e', -5.0, 1000.0, None)\n",
      "('R_EX_gly_e', -2.0, 1000.0, None)\n",
      "('R_EX_ala__L_e', -1.0, 1000.0, None)\n",
      "('R_EX_arg__L_e', -1.0, 1000.0, None)\n",
      "('R_EX_asp__L_e', -2.0, 1000.0, None)\n",
      "('R_EX_asn__L_e', -2.0, 1000.0, None)\n",
      "('R_EX_cys__L_e', -1.0, 1000.0, None)\n",
      "('R_EX_glu__L_e', -2.0, 1000.0, None)\n",
      "('R_EX_his__L_e', -1.0, 1000.0, None)\n",
      "('R_EX_ile__L_e', -1.0, 1000.0, None)\n",
      "('R_EX_leu__L_e', -1.0, 1000.0, None)\n",
      "('R_EX_lys__L_e', -1.0, 1000.0, None)\n",
      "('R_EX_met__L_e', -1.0, 1000.0, None)\n",
      "('R_EX_phe__L_e', -1.0, 1000.0, None)\n",
      "('R_EX_pro__L_e', -2.0, 1000.0, None)\n",
      "('R_EX_ser__L_e', -2.0, 1000.0, None)\n",
      "('R_EX_thr__L_e', -1.0, 1000.0, None)\n",
      "('R_EX_trp__L_e', -1.0, 1000.0, None)\n",
      "('R_EX_tyr__L_e', -1.0, 1000.0, None)\n",
      "('R_EX_val__L_e', -1.0, 1000.0, None)\n",
      "('R_EX_cobalt2_e', -1.0, 1000.0, None)\n",
      "('R_EX_cl_e', -1.0, 1000.0, None)\n",
      "('R_EX_ca2_e', -1.0, 1000.0, None)\n",
      "('R_EX_cu2_e', -1.0, 1000.0, None)\n",
      "('R_EX_mn2_e', -1.0, 1000.0, None)\n",
      "('R_EX_mg2_e', -1.0, 1000.0, None)\n",
      "('R_EX_zn2_e', -1.0, 1000.0, None)\n",
      "('R_EX_fe2_e', -1.0, 1000.0, None)\n",
      "('R_EX_fe3_e', -1.0, 1000.0, None)\n",
      "('R_EX_so4_e', -1.0, 1000.0, None)\n",
      "('R_EX_mobd_e', -1.0, 1000.0, None)\n",
      "('R_EX_4abz_e', -1.0, 1000.0, None)\n",
      "('R_EX_ribflv_e', -1.0, 1000.0, None)\n",
      "('R_EX_fol_e', -1.0, 1000.0, None)\n",
      "('R_EX_inost_e', -1.0, 1000.0, None)\n",
      "('R_EX_pydx_e', -1.0, 1000.0, None)\n",
      "('R_EX_pydam_e', -1.0, 1000.0, None)\n",
      "('R_EX_cbl2_e', -1.0, 1000.0, None)\n",
      "('R_EX_btn_e', -1.0, 1000.0, None)\n",
      "('R_EX_thm_e', -1.0, 1000.0, None)\n",
      "('R_EX_nac_e', -1.0, 1000.0, None)\n",
      "('R_EX_pnto__R_e', -1.0, 1000.0, None)\n"
     ]
    }
   ],
   "source": [
    "model_relaxed_bounds = deepcopy(model_cbm)\n",
    "for i, m, lb in df.itertuples():\n",
    "    if m == 'M_cit_e':\n",
    "        continue\n",
    "    model_relaxed_bounds.setReactionBounds(to_xreaction(m), lb, 1000.0)\n",
    "    model_relaxed_bounds.getReaction(to_xreaction(m)).reversible = True\n",
    "    print(model_relaxed_bounds.getReactionBounds(to_xreaction(m)))"
   ]
  },
  {
   "cell_type": "code",
   "execution_count": 100,
   "id": "39e752f2",
   "metadata": {},
   "outputs": [
    {
     "name": "stdout",
     "output_type": "stream",
     "text": [
      "Tested model for reversibility errors.\n"
     ]
    }
   ],
   "source": [
    "cbmpy.CBTools.fixReversibility(model_relaxed_bounds)\n",
    "print('Tested model for reversibility errors.')"
   ]
  },
  {
   "cell_type": "code",
   "execution_count": 101,
   "id": "9affe272",
   "metadata": {},
   "outputs": [
    {
     "name": "stdout",
     "output_type": "stream",
     "text": [
      "getState1\n"
     ]
    }
   ],
   "source": [
    "model_cbm_uncstr = deepcopy(model_relaxed_bounds)"
   ]
  },
  {
   "cell_type": "code",
   "execution_count": 102,
   "id": "29d52355",
   "metadata": {},
   "outputs": [
    {
     "name": "stdout",
     "output_type": "stream",
     "text": [
      "\n",
      "INFO: using FBC version: 2\n",
      "INFO: V2 bounds compression enabled\n",
      "INFO: added 0 non fluxbound parameters to model\n",
      "Model exported as: iYS854_medium.xml\n"
     ]
    }
   ],
   "source": [
    "cbmpy.CBWrite.writeSBML3FBCV2(model_relaxed_bounds, 'iYS854_medium.xml')"
   ]
  },
  {
   "cell_type": "markdown",
   "id": "856646bc",
   "metadata": {},
   "source": [
    "The modified model was now created and can be imported into cobrapy."
   ]
  },
  {
   "cell_type": "code",
   "execution_count": 103,
   "id": "efc7bd6c",
   "metadata": {},
   "outputs": [],
   "source": [
    "model_sa = cobra.io.read_sbml_model('./iYS854_medium.xml')"
   ]
  },
  {
   "cell_type": "code",
   "execution_count": 104,
   "id": "ed2c3c0c",
   "metadata": {},
   "outputs": [
    {
     "data": {
      "text/html": [
       "<strong><em>Optimal</em> solution with objective value 3.373</strong><br><div>\n",
       "<style scoped>\n",
       "    .dataframe tbody tr th:only-of-type {\n",
       "        vertical-align: middle;\n",
       "    }\n",
       "\n",
       "    .dataframe tbody tr th {\n",
       "        vertical-align: top;\n",
       "    }\n",
       "\n",
       "    .dataframe thead th {\n",
       "        text-align: right;\n",
       "    }\n",
       "</style>\n",
       "<table border=\"1\" class=\"dataframe\">\n",
       "  <thead>\n",
       "    <tr style=\"text-align: right;\">\n",
       "      <th></th>\n",
       "      <th>fluxes</th>\n",
       "      <th>reduced_costs</th>\n",
       "    </tr>\n",
       "  </thead>\n",
       "  <tbody>\n",
       "    <tr>\n",
       "      <th>10M3HDHL</th>\n",
       "      <td>0.010225</td>\n",
       "      <td>0.000000e+00</td>\n",
       "    </tr>\n",
       "    <tr>\n",
       "      <th>10M3OACPO</th>\n",
       "      <td>0.195114</td>\n",
       "      <td>0.000000e+00</td>\n",
       "    </tr>\n",
       "    <tr>\n",
       "      <th>10M3OUO</th>\n",
       "      <td>0.010225</td>\n",
       "      <td>0.000000e+00</td>\n",
       "    </tr>\n",
       "    <tr>\n",
       "      <th>10MDOD</th>\n",
       "      <td>0.195114</td>\n",
       "      <td>1.110223e-16</td>\n",
       "    </tr>\n",
       "    <tr>\n",
       "      <th>10MTDAO</th>\n",
       "      <td>0.195114</td>\n",
       "      <td>-2.220446e-16</td>\n",
       "    </tr>\n",
       "    <tr>\n",
       "      <th>...</th>\n",
       "      <td>...</td>\n",
       "      <td>...</td>\n",
       "    </tr>\n",
       "    <tr>\n",
       "      <th>PYDAMabc</th>\n",
       "      <td>0.000000</td>\n",
       "      <td>0.000000e+00</td>\n",
       "    </tr>\n",
       "    <tr>\n",
       "      <th>LTAs</th>\n",
       "      <td>3.372968</td>\n",
       "      <td>0.000000e+00</td>\n",
       "    </tr>\n",
       "    <tr>\n",
       "      <th>WTAs</th>\n",
       "      <td>3.372968</td>\n",
       "      <td>0.000000e+00</td>\n",
       "    </tr>\n",
       "    <tr>\n",
       "      <th>LTAdtarO</th>\n",
       "      <td>0.000000</td>\n",
       "      <td>-8.991114e-03</td>\n",
       "    </tr>\n",
       "    <tr>\n",
       "      <th>LTAWTA</th>\n",
       "      <td>3.372968</td>\n",
       "      <td>0.000000e+00</td>\n",
       "    </tr>\n",
       "  </tbody>\n",
       "</table>\n",
       "<p>1454 rows × 2 columns</p>\n",
       "</div>"
      ],
      "text/plain": [
       "<Solution 3.373 at 0x7f4b465bfdf0>"
      ]
     },
     "execution_count": 104,
     "metadata": {},
     "output_type": "execute_result"
    }
   ],
   "source": [
    "model_sa.optimize()"
   ]
  },
  {
   "cell_type": "code",
   "execution_count": 105,
   "id": "3fecceea",
   "metadata": {
    "scrolled": false
   },
   "outputs": [
    {
     "data": {
      "text/html": [
       "<h3>Objective</h3><p>1.0 BIOMASS_iYS_wild_type = 3.372968320438362</p><h4>Uptake</h4><table border=\"1\" class=\"dataframe\">\n",
       "  <thead>\n",
       "    <tr style=\"text-align: right;\">\n",
       "      <th>Metabolite</th>\n",
       "      <th>Reaction</th>\n",
       "      <th>Flux</th>\n",
       "      <th>C-Number</th>\n",
       "      <th>C-Flux</th>\n",
       "    </tr>\n",
       "  </thead>\n",
       "  <tbody>\n",
       "    <tr>\n",
       "      <td>ade_e</td>\n",
       "      <td>EX_ade_e</td>\n",
       "      <td>0.6371</td>\n",
       "      <td>5</td>\n",
       "      <td>1.58%</td>\n",
       "    </tr>\n",
       "    <tr>\n",
       "      <td>ala__L_e</td>\n",
       "      <td>EX_ala__L_e</td>\n",
       "      <td>1</td>\n",
       "      <td>3</td>\n",
       "      <td>1.49%</td>\n",
       "    </tr>\n",
       "    <tr>\n",
       "      <td>arg__L_e</td>\n",
       "      <td>EX_arg__L_e</td>\n",
       "      <td>1</td>\n",
       "      <td>6</td>\n",
       "      <td>2.98%</td>\n",
       "    </tr>\n",
       "    <tr>\n",
       "      <td>asn__L_e</td>\n",
       "      <td>EX_asn__L_e</td>\n",
       "      <td>2</td>\n",
       "      <td>4</td>\n",
       "      <td>3.97%</td>\n",
       "    </tr>\n",
       "    <tr>\n",
       "      <td>asp__L_e</td>\n",
       "      <td>EX_asp__L_e</td>\n",
       "      <td>2</td>\n",
       "      <td>4</td>\n",
       "      <td>3.97%</td>\n",
       "    </tr>\n",
       "    <tr>\n",
       "      <td>btn_e</td>\n",
       "      <td>EX_btn_e</td>\n",
       "      <td>6.746E-06</td>\n",
       "      <td>10</td>\n",
       "      <td>0.00%</td>\n",
       "    </tr>\n",
       "    <tr>\n",
       "      <td>ca2_e</td>\n",
       "      <td>EX_ca2_e</td>\n",
       "      <td>0.001093</td>\n",
       "      <td>0</td>\n",
       "      <td>0.00%</td>\n",
       "    </tr>\n",
       "    <tr>\n",
       "      <td>cl_e</td>\n",
       "      <td>EX_cl_e</td>\n",
       "      <td>0.0167</td>\n",
       "      <td>0</td>\n",
       "      <td>0.00%</td>\n",
       "    </tr>\n",
       "    <tr>\n",
       "      <td>csn_e</td>\n",
       "      <td>EX_csn_e</td>\n",
       "      <td>0.703</td>\n",
       "      <td>4</td>\n",
       "      <td>1.40%</td>\n",
       "    </tr>\n",
       "    <tr>\n",
       "      <td>cys__L_e</td>\n",
       "      <td>EX_cys__L_e</td>\n",
       "      <td>0.335</td>\n",
       "      <td>3</td>\n",
       "      <td>0.50%</td>\n",
       "    </tr>\n",
       "    <tr>\n",
       "      <td>fe2_e</td>\n",
       "      <td>EX_fe2_e</td>\n",
       "      <td>0.024</td>\n",
       "      <td>0</td>\n",
       "      <td>0.00%</td>\n",
       "    </tr>\n",
       "    <tr>\n",
       "      <td>fe3_e</td>\n",
       "      <td>EX_fe3_e</td>\n",
       "      <td>0.02505</td>\n",
       "      <td>0</td>\n",
       "      <td>0.00%</td>\n",
       "    </tr>\n",
       "    <tr>\n",
       "      <td>glc__D_e</td>\n",
       "      <td>EX_glc__D_e</td>\n",
       "      <td>10</td>\n",
       "      <td>6</td>\n",
       "      <td>29.78%</td>\n",
       "    </tr>\n",
       "    <tr>\n",
       "      <td>gln__L_e</td>\n",
       "      <td>EX_gln__L_e</td>\n",
       "      <td>1.5</td>\n",
       "      <td>5</td>\n",
       "      <td>3.72%</td>\n",
       "    </tr>\n",
       "    <tr>\n",
       "      <td>glu__L_e</td>\n",
       "      <td>EX_glu__L_e</td>\n",
       "      <td>2</td>\n",
       "      <td>5</td>\n",
       "      <td>4.96%</td>\n",
       "    </tr>\n",
       "    <tr>\n",
       "      <td>gly_e</td>\n",
       "      <td>EX_gly_e</td>\n",
       "      <td>2</td>\n",
       "      <td>2</td>\n",
       "      <td>1.99%</td>\n",
       "    </tr>\n",
       "    <tr>\n",
       "      <td>gua_e</td>\n",
       "      <td>EX_gua_e</td>\n",
       "      <td>0.2948</td>\n",
       "      <td>5</td>\n",
       "      <td>0.73%</td>\n",
       "    </tr>\n",
       "    <tr>\n",
       "      <td>h_e</td>\n",
       "      <td>EX_h_e</td>\n",
       "      <td>10</td>\n",
       "      <td>0</td>\n",
       "      <td>0.00%</td>\n",
       "    </tr>\n",
       "    <tr>\n",
       "      <td>his__L_e</td>\n",
       "      <td>EX_his__L_e</td>\n",
       "      <td>0.2032</td>\n",
       "      <td>6</td>\n",
       "      <td>0.61%</td>\n",
       "    </tr>\n",
       "    <tr>\n",
       "      <td>ile__L_e</td>\n",
       "      <td>EX_ile__L_e</td>\n",
       "      <td>1</td>\n",
       "      <td>6</td>\n",
       "      <td>2.98%</td>\n",
       "    </tr>\n",
       "    <tr>\n",
       "      <td>k_e</td>\n",
       "      <td>EX_k_e</td>\n",
       "      <td>0.6263</td>\n",
       "      <td>0</td>\n",
       "      <td>0.00%</td>\n",
       "    </tr>\n",
       "    <tr>\n",
       "      <td>lac__D_e</td>\n",
       "      <td>EX_lac__D_e</td>\n",
       "      <td>10</td>\n",
       "      <td>3</td>\n",
       "      <td>14.89%</td>\n",
       "    </tr>\n",
       "    <tr>\n",
       "      <td>leu__L_e</td>\n",
       "      <td>EX_leu__L_e</td>\n",
       "      <td>1</td>\n",
       "      <td>6</td>\n",
       "      <td>2.98%</td>\n",
       "    </tr>\n",
       "    <tr>\n",
       "      <td>lys__L_e</td>\n",
       "      <td>EX_lys__L_e</td>\n",
       "      <td>1</td>\n",
       "      <td>6</td>\n",
       "      <td>2.98%</td>\n",
       "    </tr>\n",
       "    <tr>\n",
       "      <td>met__L_e</td>\n",
       "      <td>EX_met__L_e</td>\n",
       "      <td>0.2731</td>\n",
       "      <td>5</td>\n",
       "      <td>0.68%</td>\n",
       "    </tr>\n",
       "    <tr>\n",
       "      <td>mg2_e</td>\n",
       "      <td>EX_mg2_e</td>\n",
       "      <td>0.02784</td>\n",
       "      <td>0</td>\n",
       "      <td>0.00%</td>\n",
       "    </tr>\n",
       "    <tr>\n",
       "      <td>mn2_e</td>\n",
       "      <td>EX_mn2_e</td>\n",
       "      <td>0.002219</td>\n",
       "      <td>0</td>\n",
       "      <td>0.00%</td>\n",
       "    </tr>\n",
       "    <tr>\n",
       "      <td>na1_e</td>\n",
       "      <td>EX_na1_e</td>\n",
       "      <td>6.711</td>\n",
       "      <td>0</td>\n",
       "      <td>0.00%</td>\n",
       "    </tr>\n",
       "    <tr>\n",
       "      <td>nac_e</td>\n",
       "      <td>EX_nac_e</td>\n",
       "      <td>0.0002851</td>\n",
       "      <td>6</td>\n",
       "      <td>0.00%</td>\n",
       "    </tr>\n",
       "    <tr>\n",
       "      <td>o2_e</td>\n",
       "      <td>EX_o2_e</td>\n",
       "      <td>20</td>\n",
       "      <td>0</td>\n",
       "      <td>0.00%</td>\n",
       "    </tr>\n",
       "    <tr>\n",
       "      <td>phe__L_e</td>\n",
       "      <td>EX_phe__L_e</td>\n",
       "      <td>0.3855</td>\n",
       "      <td>9</td>\n",
       "      <td>1.72%</td>\n",
       "    </tr>\n",
       "    <tr>\n",
       "      <td>pnto__R_e</td>\n",
       "      <td>EX_pnto__R_e</td>\n",
       "      <td>0.2617</td>\n",
       "      <td>9</td>\n",
       "      <td>1.17%</td>\n",
       "    </tr>\n",
       "    <tr>\n",
       "      <td>pro__L_e</td>\n",
       "      <td>EX_pro__L_e</td>\n",
       "      <td>2</td>\n",
       "      <td>5</td>\n",
       "      <td>4.96%</td>\n",
       "    </tr>\n",
       "    <tr>\n",
       "      <td>pydx_e</td>\n",
       "      <td>EX_pydx_e</td>\n",
       "      <td>0.0007522</td>\n",
       "      <td>8</td>\n",
       "      <td>0.00%</td>\n",
       "    </tr>\n",
       "    <tr>\n",
       "      <td>ribflv_e</td>\n",
       "      <td>EX_ribflv_e</td>\n",
       "      <td>0.001007</td>\n",
       "      <td>17</td>\n",
       "      <td>0.01%</td>\n",
       "    </tr>\n",
       "    <tr>\n",
       "      <td>ser__L_e</td>\n",
       "      <td>EX_ser__L_e</td>\n",
       "      <td>2</td>\n",
       "      <td>3</td>\n",
       "      <td>2.98%</td>\n",
       "    </tr>\n",
       "    <tr>\n",
       "      <td>so4_e</td>\n",
       "      <td>EX_so4_e</td>\n",
       "      <td>0.01392</td>\n",
       "      <td>0</td>\n",
       "      <td>0.00%</td>\n",
       "    </tr>\n",
       "    <tr>\n",
       "      <td>thm_e</td>\n",
       "      <td>EX_thm_e</td>\n",
       "      <td>0.001504</td>\n",
       "      <td>12</td>\n",
       "      <td>0.01%</td>\n",
       "    </tr>\n",
       "    <tr>\n",
       "      <td>thr__L_e</td>\n",
       "      <td>EX_thr__L_e</td>\n",
       "      <td>1</td>\n",
       "      <td>4</td>\n",
       "      <td>1.99%</td>\n",
       "    </tr>\n",
       "    <tr>\n",
       "      <td>trp__L_e</td>\n",
       "      <td>EX_trp__L_e</td>\n",
       "      <td>0.05174</td>\n",
       "      <td>11</td>\n",
       "      <td>0.28%</td>\n",
       "    </tr>\n",
       "    <tr>\n",
       "      <td>tyr__L_e</td>\n",
       "      <td>EX_tyr__L_e</td>\n",
       "      <td>0.2573</td>\n",
       "      <td>9</td>\n",
       "      <td>1.15%</td>\n",
       "    </tr>\n",
       "    <tr>\n",
       "      <td>ura_e</td>\n",
       "      <td>EX_ura_e</td>\n",
       "      <td>0.5329</td>\n",
       "      <td>4</td>\n",
       "      <td>1.06%</td>\n",
       "    </tr>\n",
       "    <tr>\n",
       "      <td>val__L_e</td>\n",
       "      <td>EX_val__L_e</td>\n",
       "      <td>1</td>\n",
       "      <td>5</td>\n",
       "      <td>2.48%</td>\n",
       "    </tr>\n",
       "    <tr>\n",
       "      <td>2fe1s_c</td>\n",
       "      <td>SK_2fe1s_c</td>\n",
       "      <td>0.0009208</td>\n",
       "      <td>0</td>\n",
       "      <td>0.00%</td>\n",
       "    </tr>\n",
       "    <tr>\n",
       "      <td>apoACP_c</td>\n",
       "      <td>SK_apoACP_c</td>\n",
       "      <td>0.2596</td>\n",
       "      <td>0</td>\n",
       "      <td>0.00%</td>\n",
       "    </tr>\n",
       "  </tbody>\n",
       "</table><h4>Secretion</h4><table border=\"1\" class=\"dataframe\">\n",
       "  <thead>\n",
       "    <tr style=\"text-align: right;\">\n",
       "      <th>Metabolite</th>\n",
       "      <th>Reaction</th>\n",
       "      <th>Flux</th>\n",
       "      <th>C-Number</th>\n",
       "      <th>C-Flux</th>\n",
       "    </tr>\n",
       "  </thead>\n",
       "  <tbody>\n",
       "    <tr>\n",
       "      <td>5drib_c</td>\n",
       "      <td>DM_5drib_c</td>\n",
       "      <td>-0.001572</td>\n",
       "      <td>5</td>\n",
       "      <td>0.01%</td>\n",
       "    </tr>\n",
       "    <tr>\n",
       "      <td>ac_e</td>\n",
       "      <td>EX_ac_e</td>\n",
       "      <td>-19.82</td>\n",
       "      <td>2</td>\n",
       "      <td>47.39%</td>\n",
       "    </tr>\n",
       "    <tr>\n",
       "      <td>co2_e</td>\n",
       "      <td>EX_co2_e</td>\n",
       "      <td>-13.99</td>\n",
       "      <td>1</td>\n",
       "      <td>16.72%</td>\n",
       "    </tr>\n",
       "    <tr>\n",
       "      <td>etoh_e</td>\n",
       "      <td>EX_etoh_e</td>\n",
       "      <td>-0.9406</td>\n",
       "      <td>2</td>\n",
       "      <td>2.25%</td>\n",
       "    </tr>\n",
       "    <tr>\n",
       "      <td>for_e</td>\n",
       "      <td>EX_for_e</td>\n",
       "      <td>-25.12</td>\n",
       "      <td>1</td>\n",
       "      <td>30.03%</td>\n",
       "    </tr>\n",
       "    <tr>\n",
       "      <td>glyclt_e</td>\n",
       "      <td>EX_glyclt_e</td>\n",
       "      <td>-0.001504</td>\n",
       "      <td>2</td>\n",
       "      <td>0.00%</td>\n",
       "    </tr>\n",
       "    <tr>\n",
       "      <td>h2o_e</td>\n",
       "      <td>EX_h2o_e</td>\n",
       "      <td>-26.31</td>\n",
       "      <td>0</td>\n",
       "      <td>0.00%</td>\n",
       "    </tr>\n",
       "    <tr>\n",
       "      <td>nh4_e</td>\n",
       "      <td>EX_nh4_e</td>\n",
       "      <td>-6.711</td>\n",
       "      <td>0</td>\n",
       "      <td>0.00%</td>\n",
       "    </tr>\n",
       "    <tr>\n",
       "      <td>thym_e</td>\n",
       "      <td>EX_thym_e</td>\n",
       "      <td>-0.417</td>\n",
       "      <td>5</td>\n",
       "      <td>2.49%</td>\n",
       "    </tr>\n",
       "    <tr>\n",
       "      <td>urea_e</td>\n",
       "      <td>EX_urea_e</td>\n",
       "      <td>-0.6903</td>\n",
       "      <td>1</td>\n",
       "      <td>0.83%</td>\n",
       "    </tr>\n",
       "    <tr>\n",
       "      <td>ahcys_c</td>\n",
       "      <td>SK_ahcys_c</td>\n",
       "      <td>-0.01665</td>\n",
       "      <td>14</td>\n",
       "      <td>0.28%</td>\n",
       "    </tr>\n",
       "  </tbody>\n",
       "</table>"
      ],
      "text/plain": [
       "<cobra.summary.model_summary.ModelSummary at 0x7f4b465bf970>"
      ]
     },
     "execution_count": 105,
     "metadata": {},
     "output_type": "execute_result"
    }
   ],
   "source": [
    "model_sa.summary()"
   ]
  },
  {
   "cell_type": "code",
   "execution_count": 106,
   "id": "ad903c63",
   "metadata": {},
   "outputs": [
    {
     "data": {
      "text/plain": [
       "{'EX_4abz_e': 1.0,\n",
       " 'EX_gly_e': 2.0,\n",
       " 'EX_ala__L_e': 1.0,\n",
       " 'EX_gua_e': 1.5,\n",
       " 'EX_h2o_e': 10.0,\n",
       " 'EX_arg__L_e': 1.0,\n",
       " 'EX_asn__L_e': 2.0,\n",
       " 'EX_h_e': 10.0,\n",
       " 'EX_his__L_e': 1.0,\n",
       " 'EX_ile__L_e': 1.0,\n",
       " 'EX_k_e': 10.0,\n",
       " 'EX_asp__L_e': 2.0,\n",
       " 'EX_lac__D_e': 10.0,\n",
       " 'EX_btn_e': 1.0,\n",
       " 'EX_ca2_e': 1.0,\n",
       " 'EX_cbl2_e': 1.0,\n",
       " 'EX_leu__L_e': 1.0,\n",
       " 'EX_lys__L_e': 1.0,\n",
       " 'EX_cl_e': 1.0,\n",
       " 'EX_co2_e': 10.0,\n",
       " 'EX_cobalt2_e': 1.0,\n",
       " 'EX_csn_e': 1.5,\n",
       " 'EX_cu2_e': 1.0,\n",
       " 'EX_cys__L_e': 1.0,\n",
       " 'EX_met__L_e': 1.0,\n",
       " 'EX_mg2_e': 1.0,\n",
       " 'EX_mn2_e': 1.0,\n",
       " 'EX_mobd_e': 1.0,\n",
       " 'EX_na1_e': 10.0,\n",
       " 'EX_fe2_e': 1.0,\n",
       " 'EX_fe3_e': 1.0,\n",
       " 'EX_nac_e': 1.0,\n",
       " 'EX_nh4_e': 10.0,\n",
       " 'EX_o2_e': 20.0,\n",
       " 'EX_fol_e': 1.0,\n",
       " 'EX_phe__L_e': 1.0,\n",
       " 'EX_pi_e': 10.0,\n",
       " 'EX_pnto__R_e': 1.0,\n",
       " 'EX_pro__L_e': 2.0,\n",
       " 'EX_pydx_e': 1.0,\n",
       " 'EX_glc__D_e': 10.0,\n",
       " 'EX_gln__L_e': 5.0,\n",
       " 'EX_glu__L_e': 2.0,\n",
       " 'EX_ribflv_e': 1.0,\n",
       " 'EX_ser__L_e': 2.0,\n",
       " 'EX_so4_e': 1.0,\n",
       " 'EX_trp__L_e': 1.0,\n",
       " 'EX_tyr__L_e': 1.0,\n",
       " 'EX_thm_e': 1.0,\n",
       " 'EX_ura_e': 1.5,\n",
       " 'EX_thr__L_e': 1.0,\n",
       " 'EX_val__L_e': 1.0,\n",
       " 'EX_zn2_e': 1.0,\n",
       " 'EX_inost_e': 1.0,\n",
       " 'EX_ade_e': 1.5,\n",
       " 'EX_pydam_e': 1.0}"
      ]
     },
     "execution_count": 106,
     "metadata": {},
     "output_type": "execute_result"
    }
   ],
   "source": [
    "model_sa.medium"
   ]
  },
  {
   "cell_type": "markdown",
   "id": "13886976",
   "metadata": {},
   "source": [
    "# Check metabolites and exchange reactions"
   ]
  },
  {
   "cell_type": "code",
   "execution_count": 3,
   "id": "a3121b93",
   "metadata": {},
   "outputs": [],
   "source": [
    "pa = cobra.io.read_sbml_model('iPae_1146_medium.xml')"
   ]
  },
  {
   "cell_type": "code",
   "execution_count": 27,
   "id": "70c786b2",
   "metadata": {},
   "outputs": [
    {
     "name": "stdout",
     "output_type": "stream",
     "text": [
      "g15lac_e Gluconolactone\n",
      "gbbtn_e gamma-butyrobetaine\n",
      "crn_e Carnitine\n",
      "prolb_e Stachydrine\n",
      "myrt_e Myristic acid\n",
      "hdca_e Palmitate\n",
      "ppt_e Phosphonate\n",
      "orot_e Orotate\n",
      "citac_e Citraconate\n",
      "pepd_e Peptide\n",
      "ascb_e L-Ascorbate\n",
      "4hbz_e 4-Hydroxybenzoate\n",
      "tartr_L_e Tartrate\n",
      "feenter_e Fe-enterochlin\n",
      "muc_e cis,cis-Muconate\n",
      "agm_e Agmatine\n",
      "for_e Formate\n",
      "abtn_e Aerobactin\n",
      "glu_D_e D-Glutamate\n",
      "algna_e Acetylated Alginate\n",
      "tre_e TRHL\n",
      "5oxpro_e 5-Oxoproline\n",
      "fmet_e N-Formyl-L-methionine\n",
      "5mta_e 5-Methylthioadenosine\n",
      "ala_B_e beta-Alanine\n",
      "btd_RR_e BDOH\n",
      "glutar_e Glutarate\n",
      "gcald_e Glycolaldehyde\n",
      "decacid_e cis-2-Decenoic acid\n",
      "29 boundary metabolites without exchanges\n"
     ]
    }
   ],
   "source": [
    "count = 0\n",
    "for metabolite in pa.metabolites:\n",
    "    if metabolite.compartment == 'e':\n",
    "        try:\n",
    "            if any('EX' in r.id for r in metabolite.reactions):\n",
    "                raise ValueError\n",
    "            pa.add_boundary(metabolite)\n",
    "            print(metabolite, metabolite.name)\n",
    "            count += 1\n",
    "        except ValueError as e:\n",
    "            pass#print(e)\n",
    "print(f'{count} boundary metabolites without exchanges')"
   ]
  },
  {
   "cell_type": "code",
   "execution_count": 6,
   "id": "d3aae374",
   "metadata": {},
   "outputs": [],
   "source": [
    "sa = cobra.io.read_sbml_model('iYS854_medium.xml')"
   ]
  },
  {
   "cell_type": "code",
   "execution_count": 29,
   "id": "1b92a2c5",
   "metadata": {},
   "outputs": [
    {
     "name": "stdout",
     "output_type": "stream",
     "text": [
      "23ccmp_e 2',3'-Cyclic CMP\n",
      "2bdgsglyc_e 2-beta-D-Glucosyl-sn-glycerol\n",
      "4abut_e 4-Aminobutanoate\n",
      "acACP_MRSA_e Average acyl ACP molecule\n",
      "agm_e Agmatine\n",
      "ala_L_thr__L_e Ala-L-Thr-L\n",
      "amp_e AMP C10H12N5O7P\n",
      "b12_e Vitamin B12\n",
      "but_e Butyrate (n-C4:0)\n",
      "cbl1_e Cob(I)alamin\n",
      "cd2_e Cadmium\n",
      "cit_e Citrate\n",
      "cys__D_e D-Cysteine\n",
      "cystine__L_e L-cystine\n",
      "dca_e Decanoate (n-C10:0)\n",
      "dha_e Dihydroxyacetone\n",
      "duri_e Deoxyuridine\n",
      "fuc1p__L_e L-Fucose 1-phosphate\n",
      "g3pc_e Sn-Glycero-3-phosphocholine\n",
      "g3pe_e Sn-Glycero-3-phosphoethanolamine\n",
      "g3pg_e Glycerophosphoglycerol\n",
      "g3ps_e Glycerophosphoserine\n",
      "gly_gln_e Gly-Gln\n",
      "gly_leu_e Gly-Leu\n",
      "glyglygln_e Glycine-glycine-glutamine tripeptide\n",
      "hcys__L_e L-Homocysteine\n",
      "hg2_e Mercury  charged 2  Hg\n",
      "isetac_e Isethionic acid\n",
      "lysglugly_e Lysine-glutamine-glycine tripeptide\n",
      "mso3_e Methanesulfonate\n",
      "nmn_e NMN C11H14N2O8P\n",
      "pb_e Pb\n",
      "ppa_e Propionate (n-C3:0)\n",
      "prohisglu_e Proline-histidine-glutamine tripeptide\n",
      "serglugly_e Serine-glutamine-glycine tripeptide\n",
      "taur_e Taurine C2H7NO3S\n",
      "ttrcyc_e Tetracycline\n",
      "xtsn_e Xanthosine\n",
      "38 boundary metabolites without exchanges\n"
     ]
    }
   ],
   "source": [
    "count = 0\n",
    "for metabolite in sa.metabolites:\n",
    "    if metabolite.compartment == 'e':\n",
    "        try:\n",
    "            if any('EX' in r.id for r in metabolite.reactions):\n",
    "                raise ValueError\n",
    "            sa.add_boundary(metabolite)\n",
    "            print(metabolite, metabolite.name)\n",
    "            count += 1\n",
    "        except ValueError as e:\n",
    "            pass#print(e)\n",
    "print(f'{count} boundary metabolites without exchanges')"
   ]
  },
  {
   "cell_type": "code",
   "execution_count": null,
   "id": "ba5e4079",
   "metadata": {},
   "outputs": [],
   "source": []
  }
 ],
 "metadata": {
  "kernelspec": {
   "display_name": "Python 3 (ipykernel)",
   "language": "python",
   "name": "python3"
  },
  "language_info": {
   "codemirror_mode": {
    "name": "ipython",
    "version": 3
   },
   "file_extension": ".py",
   "mimetype": "text/x-python",
   "name": "python",
   "nbconvert_exporter": "python",
   "pygments_lexer": "ipython3",
   "version": "3.9.16"
  }
 },
 "nbformat": 4,
 "nbformat_minor": 5
}
